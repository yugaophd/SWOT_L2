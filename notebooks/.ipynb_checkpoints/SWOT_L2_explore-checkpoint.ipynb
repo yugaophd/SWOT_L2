{
 "cells": [
  {
   "cell_type": "code",
   "execution_count": 24,
   "id": "f6b3e2ae-c849-4670-944d-50e6639d9065",
   "metadata": {},
   "outputs": [],
   "source": [
    "# Import necessary libraries\n",
    "import xarray as xr\n",
    "import matplotlib.pyplot as plt\n",
    "import os\n",
    "import glob"
   ]
  },
  {
   "cell_type": "code",
   "execution_count": 35,
   "id": "4d42f152-b1d3-4f7a-b9a8-8a8dcef0be61",
   "metadata": {},
   "outputs": [],
   "source": [
    "import sys\n",
    "# Get the current directory of the notebook (replace this with your notebook's directory if not running interactively)\n",
    "notebook_dir = os.getcwd()\n",
    "\n",
    "# Construct the path to the module\n",
    "module_path = os.path.abspath(os.path.join(notebook_dir, \"../src/\"))\n",
    "\n",
    "# Add the module's directory to sys.path\n",
    "if module_path not in sys.path:\n",
    "    sys.path.append(module_path)\n",
    "\n",
    "# Now you can import your module and function\n",
    "from crop_data import crop_and_plot_data"
   ]
  },
  {
   "cell_type": "code",
   "execution_count": 36,
   "id": "892addab-bc0c-4998-926a-ad689bd544ff",
   "metadata": {},
   "outputs": [
    {
     "data": {
      "text/plain": [
       "'/home/yugao/SWOT_L2/notebooks'"
      ]
     },
     "execution_count": 36,
     "metadata": {},
     "output_type": "execute_result"
    }
   ],
   "source": [
    "notebook_dir"
   ]
  },
  {
   "cell_type": "code",
   "execution_count": 37,
   "id": "088e3fbf-5007-4eed-963a-3c15f18b09b6",
   "metadata": {},
   "outputs": [],
   "source": [
    "# Base directory for your datasets\n",
    "base_dir = \"/mnt/d/tom_data/SWOT\""
   ]
  },
  {
   "cell_type": "code",
   "execution_count": 38,
   "id": "3088f7c2-6b18-4352-972a-96fe5820c771",
   "metadata": {},
   "outputs": [
    {
     "name": "stdout",
     "output_type": "stream",
     "text": [
      "L2_LR_expert\n",
      ".ipynb_checkpoints\n",
      "download_SWOT.py\n",
      "error.log\n",
      "icebergs\n",
      "L2_LR_basic\n",
      "L2_LR_basic.zip\n",
      "L2_LR_unsmoothed\n",
      "L2_LR_windwave\n",
      "L3_LR_expert\n",
      "output.log\n",
      "plots\n"
     ]
    }
   ],
   "source": [
    "# List files and directories in your data folder\n",
    "for name in os.listdir(base_dir):\n",
    "    print(name)\n"
   ]
  },
  {
   "cell_type": "code",
   "execution_count": 39,
   "id": "83319a01-ecde-4f0a-a8de-2f294363418c",
   "metadata": {},
   "outputs": [],
   "source": [
    "subdir_name = \"L2_LR_windwave\"\n",
    "file_pattern=\"*.nc\""
   ]
  },
  {
   "cell_type": "code",
   "execution_count": 40,
   "id": "cbcc0b9a-22f8-4f05-8afb-1765ed63d66c",
   "metadata": {},
   "outputs": [],
   "source": [
    "path_pattern = os.path.join(base_dir, subdir_name, file_pattern)\n"
   ]
  },
  {
   "cell_type": "code",
   "execution_count": 43,
   "id": "82341b26-332c-44da-b5c7-e03cd557e904",
   "metadata": {},
   "outputs": [],
   "source": [
    "# Define the bounding box for Martha's Vineyard with the given bounds\n",
    "# center point of Matha's Vinyard: 41°24′N 70°37′W\n",
    "\n",
    "lat_min, lat_max = 39.5, 43.5 # Latitude bounds\n",
    "lon_min, lon_max = -71.5, -69.5 # Longitude bounds\n",
    "\n",
    "## Bigger bounding box \n",
    "\n",
    "# lat_min, lat_max = 38.5, 42. # Latitude bounds\n",
    "# lon_min, lon_max = -73.5, -69.5 # Longitude bounds\n",
    "\n",
    "lolabox = [lon_min, lon_max, lat_min, lat_max]"
   ]
  },
  {
   "cell_type": "code",
   "execution_count": 49,
   "id": "97498cde-1f4f-4c78-ad87-6d23e1c091ec",
   "metadata": {},
   "outputs": [],
   "source": [
    "file_path = glob.glob(path_pattern)\n",
    "img_dir = f\"/home/yugao/SWOT_L2/img/{subdir_name}\"\n",
    "processed_dir = f\"/home/yugao/SWOT_L2/data/processed/{subdir_name}\""
   ]
  },
  {
   "cell_type": "code",
   "execution_count": 50,
   "id": "60e33d6c-fda5-4625-b26c-a437ba2901ae",
   "metadata": {},
   "outputs": [
    {
     "ename": "ValueError",
     "evalue": "did not find a match in any of xarray's currently installed IO backends ['netcdf4', 'scipy']. Consider explicitly selecting one of the installed engines via the ``engine`` parameter, or installing additional IO dependencies, see:\nhttps://docs.xarray.dev/en/stable/getting-started-guide/installing.html\nhttps://docs.xarray.dev/en/stable/user-guide/io.html",
     "output_type": "error",
     "traceback": [
      "\u001b[0;31m---------------------------------------------------------------------------\u001b[0m",
      "\u001b[0;31mValueError\u001b[0m                                Traceback (most recent call last)",
      "Cell \u001b[0;32mIn[50], line 1\u001b[0m\n\u001b[0;32m----> 1\u001b[0m \u001b[43mcrop_and_plot_data\u001b[49m\u001b[43m(\u001b[49m\u001b[43mfile_path\u001b[49m\u001b[43m,\u001b[49m\u001b[43m \u001b[49m\u001b[43mlolabox\u001b[49m\u001b[43m,\u001b[49m\u001b[43m \u001b[49m\u001b[43mimg_dir\u001b[49m\u001b[43m,\u001b[49m\u001b[43m \u001b[49m\u001b[43mprocessed_dir\u001b[49m\u001b[43m)\u001b[49m\n",
      "File \u001b[0;32m~/SWOT_L2/src/crop_data.py:17\u001b[0m, in \u001b[0;36mcrop_and_plot_data\u001b[0;34m(file_path, lolabox, img_dir, processed_dir)\u001b[0m\n\u001b[1;32m      7\u001b[0m \u001b[38;5;250m\u001b[39m\u001b[38;5;124;03m\"\"\"\u001b[39;00m\n\u001b[1;32m      8\u001b[0m \u001b[38;5;124;03mProcess and plot data within a specified bounding box and save the results.\u001b[39;00m\n\u001b[1;32m      9\u001b[0m \n\u001b[0;32m   (...)\u001b[0m\n\u001b[1;32m     14\u001b[0m \u001b[38;5;124;03m- processed_dir: Directory to save processed NetCDF files.\u001b[39;00m\n\u001b[1;32m     15\u001b[0m \u001b[38;5;124;03m\"\"\"\u001b[39;00m\n\u001b[1;32m     16\u001b[0m \u001b[38;5;66;03m# Load dataset\u001b[39;00m\n\u001b[0;32m---> 17\u001b[0m ds_21day \u001b[38;5;241m=\u001b[39m \u001b[43mxr\u001b[49m\u001b[38;5;241;43m.\u001b[39;49m\u001b[43mopen_dataset\u001b[49m\u001b[43m(\u001b[49m\u001b[43mfile_path\u001b[49m\u001b[43m)\u001b[49m\n\u001b[1;32m     19\u001b[0m \u001b[38;5;66;03m# Adjust longitude coordinates\u001b[39;00m\n\u001b[1;32m     20\u001b[0m ds_expert \u001b[38;5;241m=\u001b[39m ds_21day\u001b[38;5;241m.\u001b[39massign_coords(longitude\u001b[38;5;241m=\u001b[39m(((ds_21day\u001b[38;5;241m.\u001b[39mlongitude \u001b[38;5;241m+\u001b[39m \u001b[38;5;241m180\u001b[39m) \u001b[38;5;241m%\u001b[39m \u001b[38;5;241m360\u001b[39m) \u001b[38;5;241m-\u001b[39m \u001b[38;5;241m180\u001b[39m))\n",
      "File \u001b[0;32m~/software/miniforge3/envs/swot/lib/python3.12/site-packages/xarray/backends/api.py:554\u001b[0m, in \u001b[0;36mopen_dataset\u001b[0;34m(filename_or_obj, engine, chunks, cache, decode_cf, mask_and_scale, decode_times, decode_timedelta, use_cftime, concat_characters, decode_coords, drop_variables, inline_array, chunked_array_type, from_array_kwargs, backend_kwargs, **kwargs)\u001b[0m\n\u001b[1;32m    551\u001b[0m     kwargs\u001b[38;5;241m.\u001b[39mupdate(backend_kwargs)\n\u001b[1;32m    553\u001b[0m \u001b[38;5;28;01mif\u001b[39;00m engine \u001b[38;5;129;01mis\u001b[39;00m \u001b[38;5;28;01mNone\u001b[39;00m:\n\u001b[0;32m--> 554\u001b[0m     engine \u001b[38;5;241m=\u001b[39m \u001b[43mplugins\u001b[49m\u001b[38;5;241;43m.\u001b[39;49m\u001b[43mguess_engine\u001b[49m\u001b[43m(\u001b[49m\u001b[43mfilename_or_obj\u001b[49m\u001b[43m)\u001b[49m\n\u001b[1;32m    556\u001b[0m \u001b[38;5;28;01mif\u001b[39;00m from_array_kwargs \u001b[38;5;129;01mis\u001b[39;00m \u001b[38;5;28;01mNone\u001b[39;00m:\n\u001b[1;32m    557\u001b[0m     from_array_kwargs \u001b[38;5;241m=\u001b[39m {}\n",
      "File \u001b[0;32m~/software/miniforge3/envs/swot/lib/python3.12/site-packages/xarray/backends/plugins.py:197\u001b[0m, in \u001b[0;36mguess_engine\u001b[0;34m(store_spec)\u001b[0m\n\u001b[1;32m    189\u001b[0m \u001b[38;5;28;01melse\u001b[39;00m:\n\u001b[1;32m    190\u001b[0m     error_msg \u001b[38;5;241m=\u001b[39m (\n\u001b[1;32m    191\u001b[0m         \u001b[38;5;124m\"\u001b[39m\u001b[38;5;124mfound the following matches with the input file in xarray\u001b[39m\u001b[38;5;124m'\u001b[39m\u001b[38;5;124ms IO \u001b[39m\u001b[38;5;124m\"\u001b[39m\n\u001b[1;32m    192\u001b[0m         \u001b[38;5;124mf\u001b[39m\u001b[38;5;124m\"\u001b[39m\u001b[38;5;124mbackends: \u001b[39m\u001b[38;5;132;01m{\u001b[39;00mcompatible_engines\u001b[38;5;132;01m}\u001b[39;00m\u001b[38;5;124m. But their dependencies may not be installed, see:\u001b[39m\u001b[38;5;130;01m\\n\u001b[39;00m\u001b[38;5;124m\"\u001b[39m\n\u001b[1;32m    193\u001b[0m         \u001b[38;5;124m\"\u001b[39m\u001b[38;5;124mhttps://docs.xarray.dev/en/stable/user-guide/io.html \u001b[39m\u001b[38;5;130;01m\\n\u001b[39;00m\u001b[38;5;124m\"\u001b[39m\n\u001b[1;32m    194\u001b[0m         \u001b[38;5;124m\"\u001b[39m\u001b[38;5;124mhttps://docs.xarray.dev/en/stable/getting-started-guide/installing.html\u001b[39m\u001b[38;5;124m\"\u001b[39m\n\u001b[1;32m    195\u001b[0m     )\n\u001b[0;32m--> 197\u001b[0m \u001b[38;5;28;01mraise\u001b[39;00m \u001b[38;5;167;01mValueError\u001b[39;00m(error_msg)\n",
      "\u001b[0;31mValueError\u001b[0m: did not find a match in any of xarray's currently installed IO backends ['netcdf4', 'scipy']. Consider explicitly selecting one of the installed engines via the ``engine`` parameter, or installing additional IO dependencies, see:\nhttps://docs.xarray.dev/en/stable/getting-started-guide/installing.html\nhttps://docs.xarray.dev/en/stable/user-guide/io.html"
     ]
    }
   ],
   "source": [
    "crop_and_plot_data(file_path, lolabox, img_dir, processed_dir)"
   ]
  },
  {
   "cell_type": "markdown",
   "id": "2b9b1d25-7486-4b53-bd8a-a05b85e448dc",
   "metadata": {},
   "source": [
    "## Initial exploration"
   ]
  },
  {
   "cell_type": "code",
   "execution_count": null,
   "id": "4fd73647-5626-4e0b-9c82-64480d215136",
   "metadata": {},
   "outputs": [],
   "source": [
    "# Plot the first variable as an example\n",
    "first_var = list(ds_wind_wave.data_vars)[0]\n",
    "ds_wind_wave[first_var].isel(time=0).plot()\n",
    "plt.show()\n"
   ]
  }
 ],
 "metadata": {
  "kernelspec": {
   "display_name": "Python 3 (ipykernel)",
   "language": "python",
   "name": "python3"
  },
  "language_info": {
   "codemirror_mode": {
    "name": "ipython",
    "version": 3
   },
   "file_extension": ".py",
   "mimetype": "text/x-python",
   "name": "python",
   "nbconvert_exporter": "python",
   "pygments_lexer": "ipython3",
   "version": "3.12.2"
  }
 },
 "nbformat": 4,
 "nbformat_minor": 5
}
