{
 "cells": [
  {
   "cell_type": "markdown",
   "id": "d13a02ca-bcf4-4bb0-8712-c77a088a2bcb",
   "metadata": {},
   "source": [
    "# SWOT L2 expert: SSH, Significant wave height and wind data"
   ]
  },
  {
   "cell_type": "code",
   "execution_count": 1,
   "id": "f6b3e2ae-c849-4670-944d-50e6639d9065",
   "metadata": {},
   "outputs": [],
   "source": [
    "import xarray as xr\n",
    "import matplotlib.pyplot as plt\n",
    "import cartopy.crs as ccrs\n",
    "import os\n",
    "import glob\n",
    "import sys"
   ]
  },
  {
   "cell_type": "code",
   "execution_count": 2,
   "id": "4d42f152-b1d3-4f7a-b9a8-8a8dcef0be61",
   "metadata": {},
   "outputs": [],
   "source": [
    "# Get the current directory of the notebook (replace this with your notebook's directory if not running interactively)\n",
    "notebook_dir = os.getcwd()\n",
    "\n",
    "# Construct the path to the module\n",
    "module_path = os.path.abspath(os.path.join(notebook_dir, \"../src/\"))\n",
    "\n",
    "# Add the module's directory to sys.path\n",
    "if module_path not in sys.path:\n",
    "    sys.path.append(module_path)\n",
    "\n",
    "# Now you can import your module and function\n",
    "from crop_data import crop_data"
   ]
  },
  {
   "cell_type": "code",
   "execution_count": 3,
   "id": "d2a51a31-f1a9-4993-9c34-7514c49b1de5",
   "metadata": {},
   "outputs": [],
   "source": [
    "# Base directory for your datasets\n",
    "base_dir = \"/mnt/d/tom_data/SWOT/\""
   ]
  },
  {
   "cell_type": "code",
   "execution_count": 4,
   "id": "d1ea5152-022b-44a2-9025-c827ad1e05f2",
   "metadata": {},
   "outputs": [
    {
     "name": "stdout",
     "output_type": "stream",
     "text": [
      "L2_LR_expert\n",
      ".ipynb_checkpoints\n",
      "download_SWOT.py\n",
      "error.log\n",
      "icebergs\n",
      "L2_LR_basic\n",
      "L2_LR_basic.zip\n",
      "L2_LR_SSH_2.0\n",
      "L2_LR_unsmoothed\n",
      "L2_LR_windwave\n",
      "L3_LR_expert\n",
      "output.log\n",
      "plots\n"
     ]
    }
   ],
   "source": [
    "# List files and directories in your data folder\n",
    "for name in os.listdir(base_dir):\n",
    "    print(name)"
   ]
  },
  {
   "cell_type": "code",
   "execution_count": 5,
   "id": "f3fc87c9-f86d-4def-bafb-4fecaca90a2b",
   "metadata": {},
   "outputs": [],
   "source": [
    "# Define the bounding box for Martha's Vineyard with the given bounds\n",
    "# center point of Matha's Vinyard: 41°24′N 70°37′W\n",
    "\n",
    "lat_min, lat_max = 40.25, 41.75 # Latitude bounds 41N =1.5\n",
    "lon_min, lon_max = -71, -69.5 # Longitude bounds  = 1.5\n",
    "\n",
    "# lat_min, lat_max = 40.75, 41.75 # Latitude bounds 41N =1.\n",
    "# lon_min, lon_max = -71, -70 # Longitude bounds  = 1.5\n",
    "\n",
    "lolabox = [lon_min, lon_max, lat_min, lat_max]"
   ]
  },
  {
   "cell_type": "code",
   "execution_count": 6,
   "id": "d5e2a3b2-eced-43a9-8a3a-48c315ca92b8",
   "metadata": {},
   "outputs": [],
   "source": [
    "# subdir_name = \"L2_LR_windwave\"\n",
    "subdir_name = \"L2_LR_expert\"\n",
    "file_pattern=\"*.nc\""
   ]
  },
  {
   "cell_type": "code",
   "execution_count": 7,
   "id": "1a3272f1-cdd1-44d9-979a-11e037af7e13",
   "metadata": {},
   "outputs": [],
   "source": [
    "path_pattern = os.path.join(base_dir, subdir_name, file_pattern)"
   ]
  },
  {
   "cell_type": "code",
   "execution_count": 8,
   "id": "97498cde-1f4f-4c78-ad87-6d23e1c091ec",
   "metadata": {},
   "outputs": [
    {
     "data": {
      "text/plain": [
       "['/mnt/d/tom_data/SWOT/L2_LR_expert/SWOT_L2_LR_SSH_Expert_007_001_20231123T100415_20231123T105543_PIC0_01.nc',\n",
       " '/mnt/d/tom_data/SWOT/L2_LR_expert/SWOT_L2_LR_SSH_Expert_007_002_20231123T105542_20231123T114710_PIC0_01.nc',\n",
       " '/mnt/d/tom_data/SWOT/L2_LR_expert/SWOT_L2_LR_SSH_Expert_007_003_20231123T114709_20231123T123837_PIC0_01.nc',\n",
       " '/mnt/d/tom_data/SWOT/L2_LR_expert/SWOT_L2_LR_SSH_Expert_007_004_20231123T123836_20231123T132921_PIC0_01.nc',\n",
       " '/mnt/d/tom_data/SWOT/L2_LR_expert/SWOT_L2_LR_SSH_Expert_007_005_20231123T133059_20231123T142131_PIC0_01.nc']"
      ]
     },
     "execution_count": 8,
     "metadata": {},
     "output_type": "execute_result"
    }
   ],
   "source": [
    "file_path = glob.glob(path_pattern)\n",
    "file_path[:5]"
   ]
  },
  {
   "cell_type": "code",
   "execution_count": 9,
   "id": "8cbd41ae-1e62-4f3e-8ec8-49769855b1c1",
   "metadata": {},
   "outputs": [],
   "source": [
    "img_dir = f\"/home/yugao/SWOT_L2/img/{subdir_name}\"\n",
    "processed_dir = f\"/home/yugao/SWOT_L2/data/processed/{subdir_name}\""
   ]
  },
  {
   "cell_type": "markdown",
   "id": "9075eb9e-ff2b-4ce5-a54d-78870e35935e",
   "metadata": {},
   "source": [
    "## Visualize subset"
   ]
  },
  {
   "cell_type": "code",
   "execution_count": 10,
   "id": "5dff7841-60dc-4f03-8143-d5124e9f9672",
   "metadata": {
    "scrolled": true
   },
   "outputs": [
    {
     "data": {
      "text/plain": [
       "['/home/yugao/SWOT_L2/data/processed/L2_LR_expert/SWOT_L2_LR_SSH_2024-03-06_225821.259004.nc',\n",
       " '/home/yugao/SWOT_L2/data/processed/L2_LR_expert/SWOT_L2_LR_SSH_2024-02-14_132300.150082.nc',\n",
       " '/home/yugao/SWOT_L2/data/processed/L2_LR_expert/SWOT_L2_LR_SSH_2024-02-13_132222.628954.nc',\n",
       " '/home/yugao/SWOT_L2/data/processed/L2_LR_expert/SWOT_L2_LR_SSH_2024-01-13_181502.310175.nc',\n",
       " '/home/yugao/SWOT_L2/data/processed/L2_LR_expert/SWOT_L2_LR_SSH_2024-03-28_194356.037288.nc',\n",
       " '/home/yugao/SWOT_L2/data/processed/L2_LR_expert/SWOT_L2_LR_SSH_2024-01-25_052812.553917.nc',\n",
       " '/home/yugao/SWOT_L2/data/processed/L2_LR_expert/SWOT_L2_LR_SSH_2024-02-24_114513.678275.nc',\n",
       " '/home/yugao/SWOT_L2/data/processed/L2_LR_expert/SWOT_L2_LR_SSH_2024-02-26_003652.553773.nc',\n",
       " '/home/yugao/SWOT_L2/data/processed/L2_LR_expert/SWOT_L2_LR_SSH_2023-12-03_004452.746855.nc',\n",
       " '/home/yugao/SWOT_L2/data/processed/L2_LR_expert/SWOT_L2_LR_SSH_2024-01-26_052843.716038.nc',\n",
       " '/home/yugao/SWOT_L2/data/processed/L2_LR_expert/SWOT_L2_LR_SSH_2024-02-16_021348.412724.nc',\n",
       " '/home/yugao/SWOT_L2/data/processed/L2_LR_expert/SWOT_L2_LR_SSH_2023-11-23_151256.526366.nc',\n",
       " '/home/yugao/SWOT_L2/data/processed/L2_LR_expert/SWOT_L2_LR_SSH_2024-02-03_150008.405989.nc',\n",
       " '/home/yugao/SWOT_L2/data/processed/L2_LR_expert/SWOT_L2_LR_SSH_2024-02-05_035156.462223.nc',\n",
       " '/home/yugao/SWOT_L2/data/processed/L2_LR_expert/SWOT_L2_LR_SSH_2024-03-16_083015.740654.nc',\n",
       " '/home/yugao/SWOT_L2/data/processed/L2_LR_expert/SWOT_L2_LR_SSH_2024-03-17_212208.380527.nc',\n",
       " '/home/yugao/SWOT_L2/data/processed/L2_LR_expert/SWOT_L2_LR_SSH_2023-12-04_133633.486683.nc',\n",
       " '/home/yugao/SWOT_L2/data/processed/L2_LR_expert/SWOT_L2_LR_SSH_2023-12-12_230705.394436.nc',\n",
       " '/home/yugao/SWOT_L2/data/processed/L2_LR_expert/SWOT_L2_LR_SSH_2024-02-15_021317.208596.nc',\n",
       " '/home/yugao/SWOT_L2/data/processed/L2_LR_expert/SWOT_L2_LR_SSH_2024-01-24_163755.416071.nc',\n",
       " '/home/yugao/SWOT_L2/data/processed/L2_LR_expert/SWOT_L2_LR_SSH_2024-03-27_194324.979443.nc',\n",
       " '/home/yugao/SWOT_L2/data/processed/L2_LR_expert/SWOT_L2_LR_SSH_2024-01-23_163717.954002.nc',\n",
       " '/home/yugao/SWOT_L2/data/processed/L2_LR_expert/SWOT_L2_LR_SSH_2024-03-05_100727.132661.nc',\n",
       " '/home/yugao/SWOT_L2/data/processed/L2_LR_expert/SWOT_L2_LR_SSH_2024-01-03_195249.734829.nc',\n",
       " '/home/yugao/SWOT_L2/data/processed/L2_LR_expert/SWOT_L2_LR_SSH_2024-03-06_100804.400667.nc',\n",
       " '/home/yugao/SWOT_L2/data/processed/L2_LR_expert/SWOT_L2_LR_SSH_2024-01-04_084306.902438.nc',\n",
       " '/home/yugao/SWOT_L2/data/processed/L2_LR_expert/SWOT_L2_LR_SSH_2024-01-05_084337.968533.nc',\n",
       " '/home/yugao/SWOT_L2/data/processed/L2_LR_expert/SWOT_L2_LR_SSH_2024-03-27_065307.979711.nc',\n",
       " '/home/yugao/SWOT_L2/data/processed/L2_LR_expert/SWOT_L2_LR_SSH_2024-04-06_051520.255827.nc',\n",
       " '/home/yugao/SWOT_L2/data/processed/L2_LR_expert/SWOT_L2_LR_SSH_2024-04-07_180701.810663.nc',\n",
       " '/home/yugao/SWOT_L2/data/processed/L2_LR_expert/SWOT_L2_LR_SSH_2024-01-15_070643.246876.nc',\n",
       " '/home/yugao/SWOT_L2/data/processed/L2_LR_expert/SWOT_L2_LR_SSH_2023-11-24_151327.767694.nc',\n",
       " '/home/yugao/SWOT_L2/data/processed/L2_LR_expert/SWOT_L2_LR_SSH_2023-12-13_230742.970196.nc',\n",
       " '/home/yugao/SWOT_L2/data/processed/L2_LR_expert/SWOT_L2_LR_SSH_2023-12-14_115800.053442.nc',\n",
       " '/home/yugao/SWOT_L2/data/processed/L2_LR_expert/SWOT_L2_LR_SSH_2024-03-07_225852.209422.nc',\n",
       " '/home/yugao/SWOT_L2/data/processed/L2_LR_expert/SWOT_L2_LR_SSH_2023-12-15_115830.957875.nc',\n",
       " '/home/yugao/SWOT_L2/data/processed/L2_LR_expert/SWOT_L2_LR_SSH_2024-01-02_195212.020930.nc']"
      ]
     },
     "execution_count": 10,
     "metadata": {},
     "output_type": "execute_result"
    }
   ],
   "source": [
    "# Define the base directory where images will be saved\n",
    "img_dir = f\"/home/yugao/SWOT_L2/img/{subdir_name}\"\n",
    "\n",
    "# Ensure the target directory exists, create if it doesn't\n",
    "os.makedirs(img_dir, exist_ok=True)\n",
    "\n",
    "file_paths = glob.glob(processed_dir + '/*.nc')\n",
    "file_paths"
   ]
  },
  {
   "cell_type": "code",
   "execution_count": 11,
   "id": "311ba0ca-e746-4b04-986f-7ecb9b78b1e2",
   "metadata": {},
   "outputs": [],
   "source": [
    "stride = 8"
   ]
  },
  {
   "cell_type": "code",
   "execution_count": 12,
   "id": "aaf56333-8836-4142-bcb4-9354a5ecb5f6",
   "metadata": {},
   "outputs": [],
   "source": [
    "wind_speed_var_name = 'wind_speed_karin_2'\n",
    "wind_speed_qual_var_name = 'wind_speed_karin_2_qual'\n",
    "swh_karin_var_name = 'swh_karin'\n",
    "swh_karin_qual_var_name = 'swh_karin_qual'\n",
    "sig0_karin_var_name = 'sig0_karin_2'\n",
    "sig0_karin_qual_var_name = 'sig0_karin_2_qual'\n",
    "ssh_karin_var_name = 'ssh_karin'\n",
    "ssh_karin_qual_var_name = 'ssha_karin_qual'\n",
    "latitude_var_name = 'latitude'\n",
    "longitude_var_name = 'longitude'\n",
    "u_component_var_name = 'wind_speed_model_u'\n",
    "v_component_var_name = 'wind_speed_model_v'\n",
    "# Define the figure and axes for a 3x1 grid of subplots\n",
    "stride = 5  # Stride for plotting wind vectors\n",
    "\n",
    "# Define the directory to save the images\n",
    "img_dir = '/home/yugao/SWOT_L2/img/L2_LR_expert'\n",
    "os.makedirs(img_dir, exist_ok=True)  # Create the directory if it doesn't exist"
   ]
  },
  {
   "cell_type": "code",
   "execution_count": 13,
   "id": "454111e4-14c3-4349-89fd-1beb15ca90cd",
   "metadata": {},
   "outputs": [],
   "source": [
    "quality_threshold = 120"
   ]
  },
  {
   "cell_type": "markdown",
   "id": "8c2a374e-3a61-4d11-a8a4-339fed60a74e",
   "metadata": {},
   "source": [
    "### Turbine locations"
   ]
  },
  {
   "cell_type": "code",
   "execution_count": 14,
   "id": "00b13723-76a4-446c-837c-5dd9fc5c6c8f",
   "metadata": {},
   "outputs": [],
   "source": [
    "tb_location = '/home/yugao/SWOT_L2/data/processed/windturbine/turbines_geo.json'"
   ]
  },
  {
   "cell_type": "code",
   "execution_count": 15,
   "id": "a8c39102-b5ef-4187-b643-bb7fd6218f88",
   "metadata": {},
   "outputs": [],
   "source": [
    "import json\n",
    "import numpy as np\n",
    "\n",
    "# Load turbine locations from the JSON file\n",
    "with open(tb_location, 'r') as f:\n",
    "    turbine_data = json.load(f)\n",
    "\n",
    "# Extract latitude and longitude of turbines\n",
    "turbine_lat = [t['latitude'] for t in turbine_data]\n",
    "turbine_lon = [t['longitude'] for t in turbine_data]\n",
    "turbine_lats, turbine_lons = np.array(turbine_lat), np.array(turbine_lon)"
   ]
  },
  {
   "cell_type": "code",
   "execution_count": 16,
   "id": "cc06bd0a-7a04-4134-a7eb-b462a789348c",
   "metadata": {},
   "outputs": [],
   "source": [
    "for file_path in file_paths:\n",
    "    fig, axs = plt.subplots(figsize=(12, 12), ncols=2, nrows=2, subplot_kw={'projection': ccrs.PlateCarree()})\n",
    "    fig.suptitle(\"Wind, Wave, and SSH Dynamics\", fontsize=20, fontweight='bold', y=1.05)\n",
    "\n",
    "    # General settings for all plots\n",
    "    for ax in axs.flat:\n",
    "        ax.set_extent(lolabox, crs=ccrs.PlateCarree())\n",
    "        ax.coastlines()\n",
    "        ax.scatter(turbine_lons, turbine_lats, color='black', s=3, edgecolor='none', transform=ccrs.PlateCarree(), zorder=3)\n",
    "        gl = ax.gridlines(draw_labels=True, dms=False, x_inline=False, y_inline=False)\n",
    "        gl.top_labels = False\n",
    "        gl.right_labels = False\n",
    "        ax.set_xlabel(\"Longitude\", fontsize=12)\n",
    "        ax.set_ylabel(\"Latitude\", fontsize=12)\n",
    "\n",
    "    # Panel 1: Wind Speed\n",
    "    ax1 = axs[0, 0]\n",
    "    ds = xr.open_dataset(file_path, engine = 'netcdf4')\n",
    "    wind_speed = ds[wind_speed_var_name]\n",
    "    wind_speed_qual = ds[wind_speed_qual_var_name]\n",
    "    good_wind_speed = wind_speed.where(wind_speed_qual <= quality_threshold)  # Mask bad data using the quality flag\n",
    "    latitude = ds[latitude_var_name]\n",
    "    longitude = ds[longitude_var_name]\n",
    "\n",
    "    scatter = ax1.scatter(longitude, latitude, c=good_wind_speed, cmap='inferno', s=10, edgecolor='none', transform=ccrs.PlateCarree())\n",
    "    cbar1 = fig.colorbar(scatter, ax=ax1, orientation='horizontal', shrink=0.8, pad=0.1)\n",
    "    cbar1.set_label('Wind Speed (m/s)')\n",
    "    ax1.set_title('Wind Speed')\n",
    "\n",
    "    # Panel 2: Wind Vectors with less density and wind speed overlay\n",
    "    ax2 = axs[0, 1]\n",
    "    u_component = ds[u_component_var_name]\n",
    "    v_component = ds[v_component_var_name]\n",
    "\n",
    "    scatter2 = ax2.scatter(longitude, latitude, c=good_wind_speed, cmap='inferno', s=10, edgecolor='none', alpha=0.5, transform=ccrs.PlateCarree())\n",
    "    cbar2 = fig.colorbar(scatter2, ax=ax2, orientation='horizontal', shrink=0.8, pad=0.1)\n",
    "    cbar2.set_label('Wind Speed (m/s)')\n",
    "    q = ax2.quiver(longitude[::stride], latitude[::stride], u_component[::stride], v_component[::stride], scale=160, transform=ccrs.PlateCarree(), color='black')\n",
    "    ax2.set_title('Wind Speed and Direction')\n",
    "\n",
    "    # Significant Wave Height\n",
    "    ax = axs[1, 0]\n",
    "    swh_karin = ds[swh_karin_var_name]\n",
    "    swh_karin_qual = ds[swh_karin_qual_var_name]\n",
    "    valid_swh_karin = swh_karin.where(swh_karin_qual <= quality_threshold)  # Mask bad data using the quality flag\n",
    "    sc2 = ax.scatter(longitude, latitude, c=valid_swh_karin, cmap='Blues', transform=ccrs.PlateCarree(), s=10, edgecolor='none')\n",
    "    cbar3 = fig.colorbar(sc2, ax=ax, orientation='horizontal', shrink=0.8, pad=0.1)\n",
    "    cbar3.set_label('Wave Height (m)')\n",
    "    ax.set_title(swh_karin_var_name, fontsize=16)\n",
    "\n",
    "    # Sea Surface Height\n",
    "    ax = axs[1, 1]\n",
    "    ssh_karin = ds[ssh_karin_var_name]\n",
    "    ssh_karin_qual = ds[ssh_karin_qual_var_name]\n",
    "    valid_ssh_karin = ssh_karin.where(ssh_karin_qual <= quality_threshold)  # Mask bad data using the quality flag\n",
    "    sc3 = ax.scatter(longitude, latitude, c=valid_ssh_karin, cmap='coolwarm', transform=ccrs.PlateCarree(), s=10, edgecolor='none')\n",
    "    cbar4 = fig.colorbar(sc3, ax=ax, orientation='horizontal', shrink=0.8, pad=0.1)\n",
    "    cbar4.set_label('SSH (m)')\n",
    "    ax.set_title(ssh_karin_var_name, fontsize=16)\n",
    "\n",
    "    plt.subplots_adjust(top=0.8, wspace=0.3, hspace=0.4, bottom=0.15)\n",
    "\n",
    "    # Save the figure\n",
    "    fig_filename = os.path.join(img_dir, os.path.basename(file_path).replace('.nc', '.png'))\n",
    "    plt.savefig(fig_filename, dpi=300)\n",
    "    plt.close(fig)"
   ]
  },
  {
   "cell_type": "markdown",
   "id": "c9ecf1b8-8e23-44b1-81dd-fb264cb2e00a",
   "metadata": {},
   "source": [
    "### Plot without turbines"
   ]
  },
  {
   "cell_type": "code",
   "execution_count": null,
   "id": "be69886b-ed72-4ba8-b713-3bb1208c669c",
   "metadata": {},
   "outputs": [],
   "source": []
  }
 ],
 "metadata": {
  "kernelspec": {
   "display_name": "Python 3 (ipykernel)",
   "language": "python",
   "name": "python3"
  },
  "language_info": {
   "codemirror_mode": {
    "name": "ipython",
    "version": 3
   },
   "file_extension": ".py",
   "mimetype": "text/x-python",
   "name": "python",
   "nbconvert_exporter": "python",
   "pygments_lexer": "ipython3",
   "version": "3.12.2"
  }
 },
 "nbformat": 4,
 "nbformat_minor": 5
}
