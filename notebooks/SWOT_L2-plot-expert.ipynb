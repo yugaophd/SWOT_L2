{
 "cells": [
  {
   "cell_type": "code",
   "execution_count": 1,
   "id": "f6b3e2ae-c849-4670-944d-50e6639d9065",
   "metadata": {},
   "outputs": [],
   "source": [
    "# Import necessary libraries\n",
    "import xarray as xr\n",
    "import matplotlib.pyplot as plt\n",
    "import cartopy.crs as ccrs\n",
    "import os\n",
    "import glob"
   ]
  },
  {
   "cell_type": "code",
   "execution_count": 2,
   "id": "4d42f152-b1d3-4f7a-b9a8-8a8dcef0be61",
   "metadata": {},
   "outputs": [],
   "source": [
    "import sys\n",
    "# Get the current directory of the notebook (replace this with your notebook's directory if not running interactively)\n",
    "notebook_dir = os.getcwd()\n",
    "\n",
    "# Construct the path to the module\n",
    "module_path = os.path.abspath(os.path.join(notebook_dir, \"../src/\"))\n",
    "\n",
    "# Add the module's directory to sys.path\n",
    "if module_path not in sys.path:\n",
    "    sys.path.append(module_path)\n",
    "\n",
    "# Now you can import your module and function\n",
    "from crop_data import crop_and_plot_wind_data"
   ]
  },
  {
   "cell_type": "code",
   "execution_count": 3,
   "id": "088e3fbf-5007-4eed-963a-3c15f18b09b6",
   "metadata": {},
   "outputs": [],
   "source": [
    "# Base directory for your datasets\n",
    "# base_dir = \"/mnt/d/tom_data/SWOT\"\n",
    "base_dir = \"/home/yugao/SWOT_L2/data/external\""
   ]
  },
  {
   "cell_type": "code",
   "execution_count": 4,
   "id": "3088f7c2-6b18-4352-972a-96fe5820c771",
   "metadata": {},
   "outputs": [
    {
     "name": "stdout",
     "output_type": "stream",
     "text": [
      ".ipynb_checkpoints\n",
      ".gitkeep\n",
      "L2_LR_unsmoothed\n",
      "L2_LR_SSH\n",
      "L2_LR_windwave\n",
      "L2_LR_basic\n",
      "L2_LR_expert\n"
     ]
    }
   ],
   "source": [
    "# List files and directories in your data folder\n",
    "for name in os.listdir(base_dir):\n",
    "    print(name)"
   ]
  },
  {
   "cell_type": "code",
   "execution_count": 5,
   "id": "83319a01-ecde-4f0a-a8de-2f294363418c",
   "metadata": {},
   "outputs": [],
   "source": [
    "subdir_name = \"L2_LR_windwave\"\n",
    "# subdir_name = \"L2_LR_expert\"\n",
    "file_pattern=\"*.nc\""
   ]
  },
  {
   "cell_type": "code",
   "execution_count": 6,
   "id": "cbcc0b9a-22f8-4f05-8afb-1765ed63d66c",
   "metadata": {},
   "outputs": [],
   "source": [
    "path_pattern = os.path.join(base_dir, subdir_name, file_pattern)"
   ]
  },
  {
   "cell_type": "code",
   "execution_count": 7,
   "id": "82341b26-332c-44da-b5c7-e03cd557e904",
   "metadata": {},
   "outputs": [],
   "source": [
    "# Define the bounding box for Martha's Vineyard with the given bounds\n",
    "# center point of Matha's Vinyard: 41°24′N 70°37′W\n",
    "\n",
    "# lat_min, lat_max = 40.,42. # Latitude bounds\n",
    "# lon_min, lon_max = -71.5, -69.5 # Longitude bounds\n",
    "\n",
    "## Bigger bounding box \n",
    "\n",
    "lat_min, lat_max = 38.5, 42. # Latitude bounds\n",
    "lon_min, lon_max = -73.5, -69.5 # Longitude bounds\n",
    "\n",
    "lolabox = [lon_min, lon_max, lat_min, lat_max]"
   ]
  },
  {
   "cell_type": "code",
   "execution_count": 8,
   "id": "97498cde-1f4f-4c78-ad87-6d23e1c091ec",
   "metadata": {},
   "outputs": [],
   "source": [
    "file_path = glob.glob(path_pattern)"
   ]
  },
  {
   "cell_type": "code",
   "execution_count": 9,
   "id": "8cbd41ae-1e62-4f3e-8ec8-49769855b1c1",
   "metadata": {},
   "outputs": [],
   "source": [
    "img_dir = f\"/home/yugao/SWOT_L2/img/{subdir_name}\"\n",
    "processed_dir = f\"/home/yugao/SWOT_L2/data/processed/{subdir_name}\""
   ]
  },
  {
   "cell_type": "markdown",
   "id": "2b9b1d25-7486-4b53-bd8a-a05b85e448dc",
   "metadata": {},
   "source": [
    "## Initial exploration: crop and plot the wind and wave data"
   ]
  },
  {
   "cell_type": "code",
   "execution_count": 10,
   "id": "87418845-537e-45ec-a2ea-a9d0e9b2b76f",
   "metadata": {
    "scrolled": true
   },
   "outputs": [],
   "source": [
    "# ds_sub = crop_and_plot_wind_data(file_path[:], lolabox, img_dir, processed_dir)\n",
    "# crop_and_plot_wind_data(file_path[:], lolabox, processed_dir)"
   ]
  },
  {
   "cell_type": "markdown",
   "id": "9075eb9e-ff2b-4ce5-a54d-78870e35935e",
   "metadata": {},
   "source": [
    "## Visualize subset"
   ]
  },
  {
   "cell_type": "code",
   "execution_count": 11,
   "id": "5dff7841-60dc-4f03-8143-d5124e9f9672",
   "metadata": {},
   "outputs": [
    {
     "data": {
      "text/plain": [
       "['/home/yugao/SWOT_L2/data/processed/L2_LR_windwave/Wind_Data_2023-06-27_143814.911468.nc',\n",
       " '/home/yugao/SWOT_L2/data/processed/L2_LR_windwave/Wind_Data_2023-07-02_135124.385318.nc',\n",
       " '/home/yugao/SWOT_L2/data/processed/L2_LR_windwave/Wind_Data_2023-07-09_124549.942955.nc',\n",
       " '/home/yugao/SWOT_L2/data/processed/L2_LR_windwave/Wind_Data_2023-06-26_144737.058828.nc',\n",
       " '/home/yugao/SWOT_L2/data/processed/L2_LR_windwave/Wind_Data_2023-06-21_153644.788064.nc',\n",
       " '/home/yugao/SWOT_L2/data/processed/L2_LR_windwave/Wind_Data_2023-07-03_134202.415688.nc',\n",
       " '/home/yugao/SWOT_L2/data/processed/L2_LR_windwave/Wind_Data_2023-07-06_131356.306434.nc',\n",
       " '/home/yugao/SWOT_L2/data/processed/L2_LR_windwave/Wind_Data_2023-06-23_151800.830384.nc',\n",
       " '/home/yugao/SWOT_L2/data/processed/L2_LR_windwave/Wind_Data_2023-06-24_150838.776331.nc',\n",
       " '/home/yugao/SWOT_L2/data/processed/L2_LR_windwave/Wind_Data_2023-06-28_142852.737828.nc',\n",
       " '/home/yugao/SWOT_L2/data/processed/L2_LR_windwave/Wind_Data_2023-06-22_152722.852297.nc',\n",
       " '/home/yugao/SWOT_L2/data/processed/L2_LR_windwave/Wind_Data_2023-07-05_132318.371966.nc',\n",
       " '/home/yugao/SWOT_L2/data/processed/L2_LR_windwave/Wind_Data_2023-06-25_145659.182436.nc',\n",
       " '/home/yugao/SWOT_L2/data/processed/L2_LR_windwave/Wind_Data_2023-07-07_130434.212308.nc',\n",
       " '/home/yugao/SWOT_L2/data/processed/L2_LR_windwave/Wind_Data_2023-07-08_125512.090320.nc']"
      ]
     },
     "execution_count": 11,
     "metadata": {},
     "output_type": "execute_result"
    }
   ],
   "source": [
    "# Define the base directory where images will be saved\n",
    "img_dir = f\"/home/yugao/SWOT_L2/img/{subdir_name}\"\n",
    "\n",
    "# Ensure the target directory exists, create if it doesn't\n",
    "os.makedirs(img_dir, exist_ok=True)\n",
    "\n",
    "file_paths = glob.glob(processed_dir + '/*.nc')\n",
    "file_paths"
   ]
  },
  {
   "cell_type": "code",
   "execution_count": 12,
   "id": "311ba0ca-e746-4b04-986f-7ecb9b78b1e2",
   "metadata": {},
   "outputs": [],
   "source": [
    "stride = 8"
   ]
  },
  {
   "cell_type": "code",
   "execution_count": 1,
   "id": "008207f2-05e8-43db-b1ae-7ffcca6e1522",
   "metadata": {
    "scrolled": true
   },
   "outputs": [
    {
     "ename": "NameError",
     "evalue": "name 'subdir_name' is not defined",
     "output_type": "error",
     "traceback": [
      "\u001b[0;31m---------------------------------------------------------------------------\u001b[0m",
      "\u001b[0;31mNameError\u001b[0m                                 Traceback (most recent call last)",
      "Cell \u001b[0;32mIn[1], line 8\u001b[0m\n\u001b[1;32m      5\u001b[0m \u001b[38;5;28;01mimport\u001b[39;00m \u001b[38;5;21;01mos\u001b[39;00m\n\u001b[1;32m      7\u001b[0m \u001b[38;5;66;03m# Define the base directory where images will be saved\u001b[39;00m\n\u001b[0;32m----> 8\u001b[0m img_dir \u001b[38;5;241m=\u001b[39m \u001b[38;5;124mf\u001b[39m\u001b[38;5;124m\"\u001b[39m\u001b[38;5;124m/home/yugao/SWOT_L2/img/\u001b[39m\u001b[38;5;132;01m{\u001b[39;00m\u001b[43msubdir_name\u001b[49m\u001b[38;5;132;01m}\u001b[39;00m\u001b[38;5;124m\"\u001b[39m\n\u001b[1;32m     10\u001b[0m \u001b[38;5;66;03m# Ensure the target directory exists, create if it doesn't\u001b[39;00m\n\u001b[1;32m     11\u001b[0m os\u001b[38;5;241m.\u001b[39mmakedirs(img_dir, exist_ok\u001b[38;5;241m=\u001b[39m\u001b[38;5;28;01mTrue\u001b[39;00m)\n",
      "\u001b[0;31mNameError\u001b[0m: name 'subdir_name' is not defined"
     ]
    }
   ],
   "source": [
    "import xarray as xr\n",
    "import glob\n",
    "import matplotlib.pyplot as plt\n",
    "import cartopy.crs as ccrs\n",
    "import os\n",
    "\n",
    "# Define the base directory where images will be saved\n",
    "img_dir = f\"/home/yugao/SWOT_L2/img/{subdir_name}\"\n",
    "\n",
    "# Ensure the target directory exists, create if it doesn't\n",
    "os.makedirs(img_dir, exist_ok=True)\n",
    "\n",
    "file_paths = glob.glob(processed_dir + '/*.nc')\n",
    "\n",
    "for file_path in file_paths:\n",
    "    ds = xr.open_dataset(file_path)\n",
    "    \n",
    "    wind_speed = ds['wind_speed_karin']\n",
    "    wind_speed_rad = ds['wind_speed_rad']\n",
    "    latitude = ds['latitude']\n",
    "    longitude = ds['longitude']\n",
    "    swh_karin = ds['swh_karin']\n",
    "    \n",
    "    # Define the figure and axes for a 2x2 grid of subplots\n",
    "    fig, axs = plt.subplots(figsize=(20, 15), nrows=2, ncols=2, subplot_kw={'projection': ccrs.PlateCarree()})\n",
    "    fig.suptitle(f\"Wind, Wave, and Radiometer Wind Speed Dynamics - {os.path.basename(file_path)}\", fontsize=20, fontweight='bold', y=1.05)\n",
    "    \n",
    "    lolabox = [-73.5, -69.5, 38.5, 44.]  # Example bounding box values\n",
    "    stride = 10  # Example stride for subsampling\n",
    "    \n",
    "    # Plot setup for all plots\n",
    "    for ax in axs.flat:\n",
    "        ax.set_extent(lolabox, crs=ccrs.PlateCarree())\n",
    "        ax.coastlines()\n",
    "        ax.gridlines(draw_labels=True, dms=False, x_inline=False, y_inline=False)\n",
    "        ax.set_xlabel(\"Longitude\", fontsize=14)\n",
    "        ax.set_ylabel(\"Latitude\", fontsize=14)\n",
    "\n",
    "    # Wind Speed and Direction\n",
    "    ax = axs[0, 0]\n",
    "    sc = ax.scatter(longitude, latitude, c=wind_speed, cmap='viridis', transform=ccrs.PlateCarree(), s=10, edgecolor='none')\n",
    "    q = ax.quiver(longitude[::stride], latitude[::stride], u_component[::stride], v_component[::stride], transform=ccrs.PlateCarree(), scale=500)\n",
    "    ax.set_title(f'{wind_speed_var_name} & Direction', fontsize=18)\n",
    "    fig.colorbar(sc, ax=ax, orientation='horizontal', label='Wind Speed (m/s)', pad=0.1, aspect=40)\n",
    "\n",
    "    # Significant Wave Height\n",
    "    ax = axs[0, 1]\n",
    "    sc2 = ax.scatter(longitude, latitude, c=swh_karin, cmap='Blues', transform=ccrs.PlateCarree(), s=10, edgecolor='none')\n",
    "    ax.set_title(swh_karin_var_name, fontsize=18)\n",
    "    fig.colorbar(sc2, ax=ax, orientation='horizontal', label='Wave Height (m)', pad=0.1, aspect=40)\n",
    "\n",
    "\n",
    "    # First plot: Wind Speed Radiometer - Component 1\n",
    "    ax = axs[1, 0]\n",
    "    sc = ax.scatter(longitude, latitude, c=wind_speed_rad[:, 0, :], cmap='plasma', transform=ccrs.PlateCarree(), s=10, edgecolor='none')\n",
    "    ax.set_title('Radiometer Wind Speed Component 1', fontsize=18)\n",
    "    fig.colorbar(sc, ax=ax, orientation='horizontal', label='Wind Speed (m/s)', pad=0.1, aspect=40)\n",
    "\n",
    "    # Second plot: Wind Speed Radiometer - Component 2\n",
    "    ax = axs[1, 1]\n",
    "    sc2 = ax.scatter(longitude, latitude, c=wind_speed_rad[:, 1, :], cmap='plasma', transform=ccrs.PlateCarree(), s=10, edgecolor='none')\n",
    "    ax.set_title('Radiometer Wind Speed Component 2', fontsize=18)\n",
    "    fig.colorbar(sc2, ax=ax, orientation='horizontal', label='Wind Speed (m/s)', pad=0.1, aspect=40)\n",
    "\n",
    "    plt.subplots_adjust(top=0.9, wspace=0.2, hspace=0.3)\n",
    "    \n",
    "    # Save the figure\n",
    "    fig_filename = os.path.basename(file_path).replace('.nc', '.png')  # Creates a .png filename based on the NetCDF filename\n",
    "    fig_path = os.path.join(img_dir, fig_filename)\n",
    "    plt.savefig(fig_path, bbox_inches='tight')\n",
    "    \n",
    "    plt.close()  # Close the plot to free up memory\n",
    "    ds.close()  # Close the dataset"
   ]
  },
  {
   "cell_type": "code",
   "execution_count": 14,
   "id": "aaf56333-8836-4142-bcb4-9354a5ecb5f6",
   "metadata": {},
   "outputs": [
    {
     "ename": "NameError",
     "evalue": "name 'ssh_karin' is not defined",
     "output_type": "error",
     "traceback": [
      "\u001b[0;31m---------------------------------------------------------------------------\u001b[0m",
      "\u001b[0;31mNameError\u001b[0m                                 Traceback (most recent call last)",
      "Cell \u001b[0;32mIn[14], line 1\u001b[0m\n\u001b[0;32m----> 1\u001b[0m longitude\u001b[38;5;241m.\u001b[39mshape, latitude\u001b[38;5;241m.\u001b[39mshape, \u001b[43mssh_karin\u001b[49m[:]\u001b[38;5;241m.\u001b[39mshape\n",
      "\u001b[0;31mNameError\u001b[0m: name 'ssh_karin' is not defined"
     ]
    }
   ],
   "source": [
    "for file_path in file_paths:\n",
    "    ds = xr.open_dataset(file_path)\n",
    "    \n",
    "    # Assuming these variables exist in your dataset\n",
    "    wind_speed_var_name = 'wind_speed_karin_2'\n",
    "    wind_speed = ds[wind_speed_var_name]\n",
    "    \n",
    "    u_component_var_name = 'wind_speed_model_u'\n",
    "    u_component = ds[u_component_var_name]\n",
    "    \n",
    "    v_component_var_name = 'wind_speed_model_v'\n",
    "    v_component = ds[v_component_var_name]\n",
    "    \n",
    "    latitude_var_name = 'latitude'\n",
    "    latitude = ds[latitude_var_name]\n",
    "    \n",
    "    longitude_var_name = 'longitude'\n",
    "    longitude = ds[longitude_var_name]\n",
    "    \n",
    "    swh_karin_var_name = 'swh_karin'\n",
    "    swh_karin = ds[swh_karin_var_name]\n",
    "    \n",
    "    ssh_karin_var_name = 'ssh_karin'\n",
    "    ssh_karin = ds[ssh_karin_var_name]\n",
    "    \n",
    "    # Define the figure and axes for a 1x3 grid of subplots\n",
    "    fig, axs = plt.subplots(figsize=(12, 12), ncols=2, nrows = 2, subplot_kw={'projection': ccrs.PlateCarree()})\n",
    "    fig.suptitle(f\"Wind, Wave, and SSH Dynamics - {os.path.basename(file_path)}\", fontsize=20, fontweight='bold', y=1.05)\n",
    "    \n",
    "    # General settings for all plots\n",
    "\n",
    "    for ax in axs:\n",
    "        ax.set_extent(lolabox, crs=ccrs.PlateCarree())\n",
    "        ax.coastlines()\n",
    "        gl = ax.gridlines(draw_labels=True, dms=False, x_inline=False, y_inline=False)\n",
    "        gl.top_labels = False\n",
    "        gl.right_labels = False\n",
    "        ax.set_xlabel(\"Longitude\", fontsize=14)\n",
    "        ax.set_ylabel(\"Latitude\", fontsize=14)\n",
    "    \n",
    "    # Wind Speed and Direction\n",
    "    ax = axs[0]\n",
    "    sc = ax.scatter(longitude, latitude, c=wind_speed, cmap='viridis', transform=ccrs.PlateCarree(), s=10, edgecolor='none')\n",
    "    q = ax.quiver(longitude[::stride], latitude[::stride], u_component[::stride], v_component[::stride], transform=ccrs.PlateCarree(), scale=500)\n",
    "    ax.set_title(f'{wind_speed_var_name} & Direction', fontsize=18)\n",
    "    fig.colorbar(sc, ax=ax, orientation='horizontal', label='Wind Speed (m/s)', pad=0.1, aspect=40)\n",
    "\n",
    "    # Significant Wave Height\n",
    "    ax = axs[1]\n",
    "    sc2 = ax.scatter(longitude, latitude, c=swh_karin, cmap='Blues', transform=ccrs.PlateCarree(), s=10, edgecolor='none')\n",
    "    ax.set_title(swh_karin_var_name, fontsize=18)\n",
    "    fig.colorbar(sc2, ax=ax, orientation='horizontal', label='Wave Height (m)', pad=0.1, aspect=40)\n",
    "\n",
    "    # Sea Surface Height\n",
    "    ax = axs[2]\n",
    "    sc3 = ax.scatter(longitude, latitude, c=ssh_karin, cmap='coolwarm', transform=ccrs.PlateCarree(), s=10, edgecolor='none')\n",
    "    ax.set_title(ssh_karin_var_name, fontsize=18)\n",
    "    fig.colorbar(sc3, ax=ax, orientation='horizontal', label='SSH (m)', pad=0.1, aspect=40)\n",
    "    \n",
    "    plt.subplots_adjust(top=0.8, wspace=0.3, hspace=0.4, bottom=0.15)\n",
    "    \n",
    "    # Save the figure\n",
    "    fig_filename = os.path.basename(file_path).replace('.nc', '.png')  # Creates a .png filename based on the NetCDF filename\n",
    "   "
   ]
  },
  {
   "cell_type": "code",
   "execution_count": null,
   "id": "cbe07874-ddfe-44e0-811a-0133e35dd3a5",
   "metadata": {
    "scrolled": true
   },
   "outputs": [],
   "source": [
    "[v for v in ds.variables]"
   ]
  },
  {
   "cell_type": "code",
   "execution_count": null,
   "id": "a98294a5-1d96-4fa5-8987-a015573dffa1",
   "metadata": {},
   "outputs": [],
   "source": [
    "ssh_karin"
   ]
  },
  {
   "cell_type": "code",
   "execution_count": null,
   "id": "8ecea09d-7431-40e8-bd68-68b288019b91",
   "metadata": {},
   "outputs": [],
   "source": []
  },
  {
   "cell_type": "code",
   "execution_count": null,
   "id": "103e7e85-f752-4fd7-9af0-f819296ecc48",
   "metadata": {},
   "outputs": [],
   "source": [
    "# ds.wind_speed_karin_2"
   ]
  },
  {
   "cell_type": "code",
   "execution_count": null,
   "id": "b53b8e06-ca45-450f-92eb-33af0d5006fd",
   "metadata": {},
   "outputs": [],
   "source": []
  }
 ],
 "metadata": {
  "kernelspec": {
   "display_name": "Python 3 (ipykernel)",
   "language": "python",
   "name": "python3"
  },
  "language_info": {
   "codemirror_mode": {
    "name": "ipython",
    "version": 3
   },
   "file_extension": ".py",
   "mimetype": "text/x-python",
   "name": "python",
   "nbconvert_exporter": "python",
   "pygments_lexer": "ipython3",
   "version": "3.12.2"
  }
 },
 "nbformat": 4,
 "nbformat_minor": 5
}
