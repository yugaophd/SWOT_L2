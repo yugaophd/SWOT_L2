{
 "cells": [
  {
   "cell_type": "code",
   "execution_count": 1,
   "id": "f6b3e2ae-c849-4670-944d-50e6639d9065",
   "metadata": {},
   "outputs": [],
   "source": [
    "# Import necessary libraries\n",
    "import xarray as xr\n",
    "import matplotlib.pyplot as plt\n",
    "import cartopy.crs as ccrs\n",
    "import os\n",
    "import glob"
   ]
  },
  {
   "cell_type": "code",
   "execution_count": 2,
   "id": "4d42f152-b1d3-4f7a-b9a8-8a8dcef0be61",
   "metadata": {},
   "outputs": [],
   "source": [
    "import sys\n",
    "# Get the current directory of the notebook (replace this with your notebook's directory if not running interactively)\n",
    "notebook_dir = os.getcwd()\n",
    "\n",
    "# Construct the path to the module\n",
    "module_path = os.path.abspath(os.path.join(notebook_dir, \"../src/\"))\n",
    "\n",
    "# Add the module's directory to sys.path\n",
    "if module_path not in sys.path:\n",
    "    sys.path.append(module_path)"
   ]
  },
  {
   "cell_type": "code",
   "execution_count": 3,
   "id": "088e3fbf-5007-4eed-963a-3c15f18b09b6",
   "metadata": {},
   "outputs": [],
   "source": [
    "# Base directory for your datasets\n",
    "# base_dir = \"/mnt/d/tom_data/SWOT\"\n",
    "base_dir = \"/home/yugao/SWOT_L2/data/external\""
   ]
  },
  {
   "cell_type": "code",
   "execution_count": 4,
   "id": "3088f7c2-6b18-4352-972a-96fe5820c771",
   "metadata": {},
   "outputs": [
    {
     "name": "stdout",
     "output_type": "stream",
     "text": [
      ".ipynb_checkpoints\n",
      ".gitkeep\n",
      "L2_LR_unsmoothed\n",
      "L2_LR_SSH\n",
      "L2_LR_windwave\n",
      "L2_LR_basic\n",
      "L2_LR_expert\n"
     ]
    }
   ],
   "source": [
    "# List files and directories in your data folder\n",
    "for name in os.listdir(base_dir):\n",
    "    print(name)"
   ]
  },
  {
   "cell_type": "code",
   "execution_count": 5,
   "id": "83319a01-ecde-4f0a-a8de-2f294363418c",
   "metadata": {},
   "outputs": [],
   "source": [
    "subdir_name = \"L2_LR_windwave\"\n",
    "# subdir_name = \"L2_LR_expert\"\n",
    "file_pattern=\"*.nc\""
   ]
  },
  {
   "cell_type": "code",
   "execution_count": 6,
   "id": "cbcc0b9a-22f8-4f05-8afb-1765ed63d66c",
   "metadata": {},
   "outputs": [],
   "source": [
    "path_pattern = os.path.join(base_dir, subdir_name, file_pattern)"
   ]
  },
  {
   "cell_type": "code",
   "execution_count": 16,
   "id": "82341b26-332c-44da-b5c7-e03cd557e904",
   "metadata": {},
   "outputs": [],
   "source": [
    "# Define the bounding box for Martha's Vineyard with the given bounds\n",
    "# center point of Matha's Vinyard: 41°24′N 70°37′W\n",
    "\n",
    "lat_min, lat_max = 40.25, 41.75 # Latitude bounds 41N =1.5\n",
    "lon_min, lon_max = -71, -69.5 # Longitude bounds  = 1.5\n",
    "\n",
    "lolabox = [lon_min, lon_max, lat_min, lat_max]"
   ]
  },
  {
   "cell_type": "code",
   "execution_count": 17,
   "id": "97498cde-1f4f-4c78-ad87-6d23e1c091ec",
   "metadata": {},
   "outputs": [],
   "source": [
    "file_path = glob.glob(path_pattern)"
   ]
  },
  {
   "cell_type": "code",
   "execution_count": 18,
   "id": "8cbd41ae-1e62-4f3e-8ec8-49769855b1c1",
   "metadata": {},
   "outputs": [],
   "source": [
    "img_dir = f\"/home/yugao/SWOT_L2/img/{subdir_name}\"\n",
    "processed_dir = f\"/home/yugao/SWOT_L2/data/processed/{subdir_name}\""
   ]
  },
  {
   "cell_type": "markdown",
   "id": "2b9b1d25-7486-4b53-bd8a-a05b85e448dc",
   "metadata": {},
   "source": [
    "## Initial exploration: crop and plot the wind and wave data"
   ]
  },
  {
   "cell_type": "code",
   "execution_count": 19,
   "id": "87418845-537e-45ec-a2ea-a9d0e9b2b76f",
   "metadata": {
    "scrolled": true
   },
   "outputs": [],
   "source": [
    "# ds_sub = crop_and_plot_wind_data(file_path[:], lolabox, img_dir, processed_dir)\n",
    "# crop_and_plot_wind_data(file_path[:], lolabox, processed_dir)"
   ]
  },
  {
   "cell_type": "markdown",
   "id": "9075eb9e-ff2b-4ce5-a54d-78870e35935e",
   "metadata": {},
   "source": [
    "## Visualize subset"
   ]
  },
  {
   "cell_type": "code",
   "execution_count": 20,
   "id": "5dff7841-60dc-4f03-8143-d5124e9f9672",
   "metadata": {
    "scrolled": true
   },
   "outputs": [
    {
     "data": {
      "text/plain": [
       "['/home/yugao/SWOT_L2/data/processed/L2_LR_windwave/SWOT_L2_LR_SSH_2024-03-06_225821.259004.nc',\n",
       " '/home/yugao/SWOT_L2/data/processed/L2_LR_windwave/SWOT_L2_LR_SSH_2024-02-14_132300.150082.nc',\n",
       " '/home/yugao/SWOT_L2/data/processed/L2_LR_windwave/SWOT_L2_LR_SSH_2024-02-13_132222.628954.nc',\n",
       " '/home/yugao/SWOT_L2/data/processed/L2_LR_windwave/SWOT_L2_LR_SSH_2024-01-13_181502.310175.nc',\n",
       " '/home/yugao/SWOT_L2/data/processed/L2_LR_windwave/SWOT_L2_LR_SSH_2024-03-28_194356.037288.nc',\n",
       " '/home/yugao/SWOT_L2/data/processed/L2_LR_windwave/SWOT_L2_LR_SSH_2024-01-25_052812.553917.nc',\n",
       " '/home/yugao/SWOT_L2/data/processed/L2_LR_windwave/SWOT_L2_LR_SSH_2024-02-24_114513.678275.nc',\n",
       " '/home/yugao/SWOT_L2/data/processed/L2_LR_windwave/SWOT_L2_LR_SSH_2024-02-26_003652.553773.nc',\n",
       " '/home/yugao/SWOT_L2/data/processed/L2_LR_windwave/SWOT_L2_LR_SSH_2023-12-03_004452.746855.nc',\n",
       " '/home/yugao/SWOT_L2/data/processed/L2_LR_windwave/SWOT_L2_LR_SSH_2024-01-26_052843.716038.nc',\n",
       " '/home/yugao/SWOT_L2/data/processed/L2_LR_windwave/SWOT_L2_LR_SSH_2024-02-16_021348.412724.nc',\n",
       " '/home/yugao/SWOT_L2/data/processed/L2_LR_windwave/SWOT_L2_LR_SSH_2023-11-23_151256.526366.nc',\n",
       " '/home/yugao/SWOT_L2/data/processed/L2_LR_windwave/SWOT_L2_LR_SSH_2024-02-03_150008.405989.nc',\n",
       " '/home/yugao/SWOT_L2/data/processed/L2_LR_windwave/SWOT_L2_LR_SSH_2024-02-05_035156.462223.nc',\n",
       " '/home/yugao/SWOT_L2/data/processed/L2_LR_windwave/SWOT_L2_LR_SSH_2024-03-16_083015.740654.nc',\n",
       " '/home/yugao/SWOT_L2/data/processed/L2_LR_windwave/SWOT_L2_LR_SSH_2024-03-17_212208.380527.nc',\n",
       " '/home/yugao/SWOT_L2/data/processed/L2_LR_windwave/SWOT_L2_LR_SSH_2023-12-04_133633.486683.nc',\n",
       " '/home/yugao/SWOT_L2/data/processed/L2_LR_windwave/SWOT_L2_LR_SSH_2023-12-12_230705.394436.nc',\n",
       " '/home/yugao/SWOT_L2/data/processed/L2_LR_windwave/SWOT_L2_LR_SSH_2024-02-15_021317.208596.nc',\n",
       " '/home/yugao/SWOT_L2/data/processed/L2_LR_windwave/SWOT_L2_LR_SSH_2024-01-24_163755.416071.nc',\n",
       " '/home/yugao/SWOT_L2/data/processed/L2_LR_windwave/SWOT_L2_LR_SSH_2024-03-27_194324.979443.nc',\n",
       " '/home/yugao/SWOT_L2/data/processed/L2_LR_windwave/SWOT_L2_LR_SSH_2024-01-23_163717.954002.nc',\n",
       " '/home/yugao/SWOT_L2/data/processed/L2_LR_windwave/SWOT_L2_LR_SSH_2024-03-05_100727.132661.nc',\n",
       " '/home/yugao/SWOT_L2/data/processed/L2_LR_windwave/SWOT_L2_LR_SSH_2024-01-03_195249.734829.nc',\n",
       " '/home/yugao/SWOT_L2/data/processed/L2_LR_windwave/SWOT_L2_LR_SSH_2024-03-06_100804.400667.nc',\n",
       " '/home/yugao/SWOT_L2/data/processed/L2_LR_windwave/SWOT_L2_LR_SSH_2024-01-04_084306.902438.nc',\n",
       " '/home/yugao/SWOT_L2/data/processed/L2_LR_windwave/SWOT_L2_LR_SSH_2024-01-05_084337.968533.nc',\n",
       " '/home/yugao/SWOT_L2/data/processed/L2_LR_windwave/SWOT_L2_LR_SSH_2024-03-27_065307.979711.nc',\n",
       " '/home/yugao/SWOT_L2/data/processed/L2_LR_windwave/SWOT_L2_LR_SSH_2024-04-06_051520.255827.nc',\n",
       " '/home/yugao/SWOT_L2/data/processed/L2_LR_windwave/SWOT_L2_LR_SSH_2024-01-15_070643.246876.nc',\n",
       " '/home/yugao/SWOT_L2/data/processed/L2_LR_windwave/SWOT_L2_LR_SSH_2023-11-24_151327.767694.nc',\n",
       " '/home/yugao/SWOT_L2/data/processed/L2_LR_windwave/SWOT_L2_LR_SSH_2023-12-13_230742.970196.nc',\n",
       " '/home/yugao/SWOT_L2/data/processed/L2_LR_windwave/SWOT_L2_LR_SSH_2023-12-14_115800.053442.nc',\n",
       " '/home/yugao/SWOT_L2/data/processed/L2_LR_windwave/SWOT_L2_LR_SSH_2024-03-07_225852.209422.nc',\n",
       " '/home/yugao/SWOT_L2/data/processed/L2_LR_windwave/SWOT_L2_LR_SSH_2023-12-15_115830.957875.nc',\n",
       " '/home/yugao/SWOT_L2/data/processed/L2_LR_windwave/SWOT_L2_LR_SSH_2024-01-02_195212.020930.nc']"
      ]
     },
     "execution_count": 20,
     "metadata": {},
     "output_type": "execute_result"
    }
   ],
   "source": [
    "# Define the base directory where images will be saved\n",
    "img_dir = f\"/home/yugao/SWOT_L2/img/{subdir_name}\"\n",
    "\n",
    "# Ensure the target directory exists, create if it doesn't\n",
    "os.makedirs(img_dir, exist_ok=True)\n",
    "\n",
    "nc_files = glob.glob(processed_dir + '/*.nc')\n",
    "nc_files"
   ]
  },
  {
   "cell_type": "code",
   "execution_count": 21,
   "id": "311ba0ca-e746-4b04-986f-7ecb9b78b1e2",
   "metadata": {},
   "outputs": [],
   "source": [
    "stride = 4  # Subsampling stride for vectors, increase stride for less density\n",
    "# Define bad flags using the provided flag values\n",
    "bad_flags = 33554432 | 536870912 | 1073741824 | 2147483648\n",
    "\n",
    "# Minimum number of valid data points required to plot\n",
    "min_valid_points = 60"
   ]
  },
  {
   "cell_type": "code",
   "execution_count": 22,
   "id": "d5931423-6926-438b-a28b-d292da6c1f8e",
   "metadata": {
    "scrolled": true
   },
   "outputs": [
    {
     "name": "stderr",
     "output_type": "stream",
     "text": [
      "/home/yugao/software/miniforge3/envs/swot/lib/python3.12/site-packages/xarray/core/duck_array_ops.py:215: RuntimeWarning: invalid value encountered in cast\n",
      "  return data.astype(dtype, **kwargs)\n",
      "/home/yugao/software/miniforge3/envs/swot/lib/python3.12/site-packages/xarray/core/duck_array_ops.py:215: RuntimeWarning: invalid value encountered in cast\n",
      "  return data.astype(dtype, **kwargs)\n",
      "/home/yugao/software/miniforge3/envs/swot/lib/python3.12/site-packages/xarray/core/duck_array_ops.py:215: RuntimeWarning: invalid value encountered in cast\n",
      "  return data.astype(dtype, **kwargs)\n",
      "/home/yugao/software/miniforge3/envs/swot/lib/python3.12/site-packages/xarray/core/duck_array_ops.py:215: RuntimeWarning: invalid value encountered in cast\n",
      "  return data.astype(dtype, **kwargs)\n",
      "/home/yugao/software/miniforge3/envs/swot/lib/python3.12/site-packages/xarray/core/duck_array_ops.py:215: RuntimeWarning: invalid value encountered in cast\n",
      "  return data.astype(dtype, **kwargs)\n",
      "/home/yugao/software/miniforge3/envs/swot/lib/python3.12/site-packages/xarray/core/duck_array_ops.py:215: RuntimeWarning: invalid value encountered in cast\n",
      "  return data.astype(dtype, **kwargs)\n"
     ]
    },
    {
     "name": "stdout",
     "output_type": "stream",
     "text": [
      "Not enough valid data in /home/yugao/SWOT_L2/data/processed/L2_LR_windwave/SWOT_L2_LR_SSH_2024-03-28_194356.037288.nc to plot.\n"
     ]
    },
    {
     "name": "stderr",
     "output_type": "stream",
     "text": [
      "/home/yugao/software/miniforge3/envs/swot/lib/python3.12/site-packages/xarray/core/duck_array_ops.py:215: RuntimeWarning: invalid value encountered in cast\n",
      "  return data.astype(dtype, **kwargs)\n",
      "/home/yugao/software/miniforge3/envs/swot/lib/python3.12/site-packages/xarray/core/duck_array_ops.py:215: RuntimeWarning: invalid value encountered in cast\n",
      "  return data.astype(dtype, **kwargs)\n",
      "/home/yugao/software/miniforge3/envs/swot/lib/python3.12/site-packages/xarray/core/duck_array_ops.py:215: RuntimeWarning: invalid value encountered in cast\n",
      "  return data.astype(dtype, **kwargs)\n",
      "/home/yugao/software/miniforge3/envs/swot/lib/python3.12/site-packages/xarray/core/duck_array_ops.py:215: RuntimeWarning: invalid value encountered in cast\n",
      "  return data.astype(dtype, **kwargs)\n",
      "/home/yugao/software/miniforge3/envs/swot/lib/python3.12/site-packages/xarray/core/duck_array_ops.py:215: RuntimeWarning: invalid value encountered in cast\n",
      "  return data.astype(dtype, **kwargs)\n",
      "/home/yugao/software/miniforge3/envs/swot/lib/python3.12/site-packages/xarray/core/duck_array_ops.py:215: RuntimeWarning: invalid value encountered in cast\n",
      "  return data.astype(dtype, **kwargs)\n"
     ]
    },
    {
     "name": "stdout",
     "output_type": "stream",
     "text": [
      "Not enough valid data in /home/yugao/SWOT_L2/data/processed/L2_LR_windwave/SWOT_L2_LR_SSH_2024-01-26_052843.716038.nc to plot.\n",
      "Not enough valid data in /home/yugao/SWOT_L2/data/processed/L2_LR_windwave/SWOT_L2_LR_SSH_2024-02-16_021348.412724.nc to plot.\n"
     ]
    },
    {
     "name": "stderr",
     "output_type": "stream",
     "text": [
      "/home/yugao/software/miniforge3/envs/swot/lib/python3.12/site-packages/xarray/core/duck_array_ops.py:215: RuntimeWarning: invalid value encountered in cast\n",
      "  return data.astype(dtype, **kwargs)\n",
      "/home/yugao/software/miniforge3/envs/swot/lib/python3.12/site-packages/xarray/core/duck_array_ops.py:215: RuntimeWarning: invalid value encountered in cast\n",
      "  return data.astype(dtype, **kwargs)\n",
      "/home/yugao/software/miniforge3/envs/swot/lib/python3.12/site-packages/xarray/core/duck_array_ops.py:215: RuntimeWarning: invalid value encountered in cast\n",
      "  return data.astype(dtype, **kwargs)\n",
      "/home/yugao/software/miniforge3/envs/swot/lib/python3.12/site-packages/xarray/core/duck_array_ops.py:215: RuntimeWarning: invalid value encountered in cast\n",
      "  return data.astype(dtype, **kwargs)\n",
      "/home/yugao/software/miniforge3/envs/swot/lib/python3.12/site-packages/xarray/core/duck_array_ops.py:215: RuntimeWarning: invalid value encountered in cast\n",
      "  return data.astype(dtype, **kwargs)\n",
      "/home/yugao/software/miniforge3/envs/swot/lib/python3.12/site-packages/xarray/core/duck_array_ops.py:215: RuntimeWarning: invalid value encountered in cast\n",
      "  return data.astype(dtype, **kwargs)\n",
      "/home/yugao/software/miniforge3/envs/swot/lib/python3.12/site-packages/xarray/core/duck_array_ops.py:215: RuntimeWarning: invalid value encountered in cast\n",
      "  return data.astype(dtype, **kwargs)\n",
      "/home/yugao/software/miniforge3/envs/swot/lib/python3.12/site-packages/xarray/core/duck_array_ops.py:215: RuntimeWarning: invalid value encountered in cast\n",
      "  return data.astype(dtype, **kwargs)\n",
      "/home/yugao/software/miniforge3/envs/swot/lib/python3.12/site-packages/xarray/core/duck_array_ops.py:215: RuntimeWarning: invalid value encountered in cast\n",
      "  return data.astype(dtype, **kwargs)\n",
      "/home/yugao/software/miniforge3/envs/swot/lib/python3.12/site-packages/xarray/core/duck_array_ops.py:215: RuntimeWarning: invalid value encountered in cast\n",
      "  return data.astype(dtype, **kwargs)\n",
      "/home/yugao/software/miniforge3/envs/swot/lib/python3.12/site-packages/xarray/core/duck_array_ops.py:215: RuntimeWarning: invalid value encountered in cast\n",
      "  return data.astype(dtype, **kwargs)\n",
      "/home/yugao/software/miniforge3/envs/swot/lib/python3.12/site-packages/xarray/core/duck_array_ops.py:215: RuntimeWarning: invalid value encountered in cast\n",
      "  return data.astype(dtype, **kwargs)\n",
      "/home/yugao/software/miniforge3/envs/swot/lib/python3.12/site-packages/xarray/core/duck_array_ops.py:215: RuntimeWarning: invalid value encountered in cast\n",
      "  return data.astype(dtype, **kwargs)\n",
      "/home/yugao/software/miniforge3/envs/swot/lib/python3.12/site-packages/xarray/core/duck_array_ops.py:215: RuntimeWarning: invalid value encountered in cast\n",
      "  return data.astype(dtype, **kwargs)\n",
      "/home/yugao/software/miniforge3/envs/swot/lib/python3.12/site-packages/xarray/core/duck_array_ops.py:215: RuntimeWarning: invalid value encountered in cast\n",
      "  return data.astype(dtype, **kwargs)\n",
      "/home/yugao/software/miniforge3/envs/swot/lib/python3.12/site-packages/xarray/core/duck_array_ops.py:215: RuntimeWarning: invalid value encountered in cast\n",
      "  return data.astype(dtype, **kwargs)\n"
     ]
    },
    {
     "name": "stdout",
     "output_type": "stream",
     "text": [
      "Not enough valid data in /home/yugao/SWOT_L2/data/processed/L2_LR_windwave/SWOT_L2_LR_SSH_2024-01-05_084337.968533.nc to plot.\n"
     ]
    },
    {
     "name": "stderr",
     "output_type": "stream",
     "text": [
      "/home/yugao/software/miniforge3/envs/swot/lib/python3.12/site-packages/xarray/core/duck_array_ops.py:215: RuntimeWarning: invalid value encountered in cast\n",
      "  return data.astype(dtype, **kwargs)\n",
      "/home/yugao/software/miniforge3/envs/swot/lib/python3.12/site-packages/xarray/core/duck_array_ops.py:215: RuntimeWarning: invalid value encountered in cast\n",
      "  return data.astype(dtype, **kwargs)\n",
      "/home/yugao/software/miniforge3/envs/swot/lib/python3.12/site-packages/xarray/core/duck_array_ops.py:215: RuntimeWarning: invalid value encountered in cast\n",
      "  return data.astype(dtype, **kwargs)\n",
      "/home/yugao/software/miniforge3/envs/swot/lib/python3.12/site-packages/xarray/core/duck_array_ops.py:215: RuntimeWarning: invalid value encountered in cast\n",
      "  return data.astype(dtype, **kwargs)\n"
     ]
    },
    {
     "name": "stdout",
     "output_type": "stream",
     "text": [
      "Not enough valid data in /home/yugao/SWOT_L2/data/processed/L2_LR_windwave/SWOT_L2_LR_SSH_2023-11-24_151327.767694.nc to plot.\n"
     ]
    },
    {
     "name": "stderr",
     "output_type": "stream",
     "text": [
      "/home/yugao/software/miniforge3/envs/swot/lib/python3.12/site-packages/xarray/core/duck_array_ops.py:215: RuntimeWarning: invalid value encountered in cast\n",
      "  return data.astype(dtype, **kwargs)\n",
      "/home/yugao/software/miniforge3/envs/swot/lib/python3.12/site-packages/xarray/core/duck_array_ops.py:215: RuntimeWarning: invalid value encountered in cast\n",
      "  return data.astype(dtype, **kwargs)\n",
      "/home/yugao/software/miniforge3/envs/swot/lib/python3.12/site-packages/xarray/core/duck_array_ops.py:215: RuntimeWarning: invalid value encountered in cast\n",
      "  return data.astype(dtype, **kwargs)\n",
      "/home/yugao/software/miniforge3/envs/swot/lib/python3.12/site-packages/xarray/core/duck_array_ops.py:215: RuntimeWarning: invalid value encountered in cast\n",
      "  return data.astype(dtype, **kwargs)\n"
     ]
    },
    {
     "name": "stdout",
     "output_type": "stream",
     "text": [
      "Not enough valid data in /home/yugao/SWOT_L2/data/processed/L2_LR_windwave/SWOT_L2_LR_SSH_2024-03-07_225852.209422.nc to plot.\n",
      "Not enough valid data in /home/yugao/SWOT_L2/data/processed/L2_LR_windwave/SWOT_L2_LR_SSH_2023-12-15_115830.957875.nc to plot.\n"
     ]
    }
   ],
   "source": [
    "for file_path in nc_files:\n",
    "    with xr.open_dataset(file_path) as ds:\n",
    "        if all(var in ds.variables for var in ['wind_speed_karin', 'wind_speed_karin_qual', 'wind_speed_model_u', 'wind_speed_model_v']):\n",
    "            qual_flags = ds['wind_speed_karin_qual'].astype(int)\n",
    "            good_mask = (qual_flags & bad_flags) == 0\n",
    "            good_wind_speed = ds['wind_speed_karin'].where(good_mask, drop=True)\n",
    "            u_component = ds['wind_speed_model_u'].where(good_mask, drop=True)\n",
    "            v_component = ds['wind_speed_model_v'].where(good_mask, drop=True)\n",
    "            latitude = ds['latitude'].where(good_mask, drop=True)\n",
    "            longitude = ds['longitude'].where(good_mask, drop=True)\n",
    "\n",
    "            # Extract start time from dataset attributes\n",
    "            time_coverage_start = ds.attrs.get('time_coverage_start', 'No start time available')\n",
    "\n",
    "            if good_wind_speed.count() >= min_valid_points:\n",
    "                fig, axs = plt.subplots(1, 2, figsize=(15, 8), subplot_kw={'projection': ccrs.PlateCarree()})\n",
    "\n",
    "                # Panel 1: Wind Speed\n",
    "                ax1 = axs[0]\n",
    "                ax1.set_extent(lolabox, crs=ccrs.PlateCarree())\n",
    "                ax1.coastlines()\n",
    "                ax1.gridlines(draw_labels=True, dms=False, x_inline=False, y_inline=False)\n",
    "                scatter = ax1.scatter(longitude, latitude, c=good_wind_speed, cmap='inferno', s=30, edgecolor='none', transform=ccrs.PlateCarree())\n",
    "                plt.colorbar(scatter, ax=ax1, orientation='horizontal', label='Wind Speed (m/s)')\n",
    "                ax1.set_title('Wind Speed')  # Title for the first subplot\n",
    "\n",
    "                # Panel 2: Wind Vectors with less density and wind speed overlay\n",
    "                ax2 = axs[1]\n",
    "                ax2.set_extent(lolabox, crs=ccrs.PlateCarree())\n",
    "                ax2.coastlines()\n",
    "                ax2.gridlines(draw_labels=True, dms=False, x_inline=False, y_inline=False)\n",
    "                q = ax2.quiver(longitude[::stride], latitude[::stride], u_component[::stride], v_component[::stride], scale=160, transform=ccrs.PlateCarree(), color='black')\n",
    "                scatter2 = ax2.scatter(longitude, latitude, c=good_wind_speed, cmap='inferno', s=30, edgecolor='none', alpha=0.5, transform=ccrs.PlateCarree())\n",
    "                plt.colorbar(scatter2, ax=ax2, orientation='horizontal', label='Wind Speed (m/s)')\n",
    "                ax2.set_title('Wind Speed and Direction')  # Title for the second subplot\n",
    "\n",
    "                plt.suptitle(f'Wind Analysis - Start: {time_coverage_start}', fontsize=20)\n",
    "                \n",
    "                plt.savefig(os.path.join(img_dir, f'{os.path.basename(file_path)}_panels.png'), dpi=300)\n",
    "                plt.close()\n",
    "            else:\n",
    "                print(f\"Not enough valid data in {file_path} to plot.\")\n",
    "        else:\n",
    "            print(f\"Required data or quality flags not found in {file_path}\")"
   ]
  },
  {
   "cell_type": "code",
   "execution_count": 23,
   "id": "a98294a5-1d96-4fa5-8987-a015573dffa1",
   "metadata": {
    "scrolled": true
   },
   "outputs": [
    {
     "data": {
      "text/plain": [
       "['time',\n",
       " 'time_tai',\n",
       " 'polarization_karin',\n",
       " 'swh_karin',\n",
       " 'swh_karin_qual',\n",
       " 'swh_karin_uncert',\n",
       " 'sig0_karin',\n",
       " 'sig0_karin_qual',\n",
       " 'sig0_karin_uncert',\n",
       " 'sig0_karin_2',\n",
       " 'sig0_karin_2_qual',\n",
       " 'wind_speed_karin',\n",
       " 'wind_speed_karin_qual',\n",
       " 'wind_speed_karin_2',\n",
       " 'wind_speed_karin_2_qual',\n",
       " 'num_pt_avg',\n",
       " 'swh_wind_speed_karin_source',\n",
       " 'swh_wind_speed_karin_source_2',\n",
       " 'swh_nadir_altimeter',\n",
       " 'swh_model',\n",
       " 'mean_wave_direction',\n",
       " 'mean_wave_period_t02',\n",
       " 'wind_speed_model_u',\n",
       " 'wind_speed_model_v',\n",
       " 'wind_speed_rad',\n",
       " 'distance_to_coast',\n",
       " 'heading_to_coast',\n",
       " 'ancillary_surface_classification_flag',\n",
       " 'dynamic_ice_flag',\n",
       " 'rain_flag',\n",
       " 'rad_surface_type_flag',\n",
       " 'latitude',\n",
       " 'longitude']"
      ]
     },
     "execution_count": 23,
     "metadata": {},
     "output_type": "execute_result"
    }
   ],
   "source": [
    "[v for v in ds.variables]"
   ]
  },
  {
   "cell_type": "code",
   "execution_count": null,
   "id": "8ecea09d-7431-40e8-bd68-68b288019b91",
   "metadata": {},
   "outputs": [],
   "source": []
  },
  {
   "cell_type": "code",
   "execution_count": 15,
   "id": "103e7e85-f752-4fd7-9af0-f819296ecc48",
   "metadata": {},
   "outputs": [],
   "source": [
    "# ds.wind_speed_karin_2"
   ]
  },
  {
   "cell_type": "code",
   "execution_count": null,
   "id": "b53b8e06-ca45-450f-92eb-33af0d5006fd",
   "metadata": {},
   "outputs": [],
   "source": []
  }
 ],
 "metadata": {
  "kernelspec": {
   "display_name": "Python 3 (ipykernel)",
   "language": "python",
   "name": "python3"
  },
  "language_info": {
   "codemirror_mode": {
    "name": "ipython",
    "version": 3
   },
   "file_extension": ".py",
   "mimetype": "text/x-python",
   "name": "python",
   "nbconvert_exporter": "python",
   "pygments_lexer": "ipython3",
   "version": "3.12.2"
  }
 },
 "nbformat": 4,
 "nbformat_minor": 5
}
