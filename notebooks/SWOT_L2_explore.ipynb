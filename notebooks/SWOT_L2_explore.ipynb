{
 "cells": [
  {
   "cell_type": "code",
   "execution_count": 1,
   "id": "f6b3e2ae-c849-4670-944d-50e6639d9065",
   "metadata": {},
   "outputs": [],
   "source": [
    "# Import necessary libraries\n",
    "import xarray as xr\n",
    "import matplotlib.pyplot as plt\n",
    "import os\n",
    "import glob"
   ]
  },
  {
   "cell_type": "code",
   "execution_count": 2,
   "id": "4d42f152-b1d3-4f7a-b9a8-8a8dcef0be61",
   "metadata": {},
   "outputs": [],
   "source": [
    "import sys\n",
    "# Get the current directory of the notebook (replace this with your notebook's directory if not running interactively)\n",
    "notebook_dir = os.getcwd()\n",
    "\n",
    "# Construct the path to the module\n",
    "module_path = os.path.abspath(os.path.join(notebook_dir, \"../src/\"))\n",
    "\n",
    "# Add the module's directory to sys.path\n",
    "if module_path not in sys.path:\n",
    "    sys.path.append(module_path)\n",
    "\n",
    "# Now you can import your module and function\n",
    "from crop_data import crop_and_plot_data"
   ]
  },
  {
   "cell_type": "code",
   "execution_count": 3,
   "id": "088e3fbf-5007-4eed-963a-3c15f18b09b6",
   "metadata": {},
   "outputs": [],
   "source": [
    "# Base directory for your datasets\n",
    "base_dir = \"/mnt/d/tom_data/SWOT\""
   ]
  },
  {
   "cell_type": "code",
   "execution_count": 4,
   "id": "3088f7c2-6b18-4352-972a-96fe5820c771",
   "metadata": {},
   "outputs": [
    {
     "name": "stdout",
     "output_type": "stream",
     "text": [
      "L2_LR_expert\n",
      ".ipynb_checkpoints\n",
      "download_SWOT.py\n",
      "error.log\n",
      "icebergs\n",
      "L2_LR_basic\n",
      "L2_LR_basic.zip\n",
      "L2_LR_unsmoothed\n",
      "L2_LR_windwave\n",
      "L3_LR_expert\n",
      "output.log\n",
      "plots\n"
     ]
    }
   ],
   "source": [
    "# List files and directories in your data folder\n",
    "for name in os.listdir(base_dir):\n",
    "    print(name)\n"
   ]
  },
  {
   "cell_type": "code",
   "execution_count": 5,
   "id": "83319a01-ecde-4f0a-a8de-2f294363418c",
   "metadata": {},
   "outputs": [],
   "source": [
    "subdir_name = \"L2_LR_windwave\"\n",
    "file_pattern=\"*.nc\""
   ]
  },
  {
   "cell_type": "code",
   "execution_count": 6,
   "id": "cbcc0b9a-22f8-4f05-8afb-1765ed63d66c",
   "metadata": {},
   "outputs": [],
   "source": [
    "path_pattern = os.path.join(base_dir, subdir_name, file_pattern)"
   ]
  },
  {
   "cell_type": "code",
   "execution_count": 7,
   "id": "82341b26-332c-44da-b5c7-e03cd557e904",
   "metadata": {},
   "outputs": [],
   "source": [
    "# Define the bounding box for Martha's Vineyard with the given bounds\n",
    "# center point of Matha's Vinyard: 41°24′N 70°37′W\n",
    "\n",
    "# lat_min, lat_max = 39.5, 43.5 # Latitude bounds\n",
    "# lon_min, lon_max = -71.5, -69.5 # Longitude bounds\n",
    "\n",
    "## Bigger bounding box \n",
    "\n",
    "lat_min, lat_max = 38.5, 44. # Latitude bounds\n",
    "lon_min, lon_max = -73.5, -69.5 # Longitude bounds\n",
    "\n",
    "lolabox = [lon_min, lon_max, lat_min, lat_max]"
   ]
  },
  {
   "cell_type": "code",
   "execution_count": 8,
   "id": "97498cde-1f4f-4c78-ad87-6d23e1c091ec",
   "metadata": {},
   "outputs": [],
   "source": [
    "file_path = glob.glob(path_pattern)"
   ]
  },
  {
   "cell_type": "code",
   "execution_count": 9,
   "id": "e19f0ff5-8a80-407c-ab8b-7b8e1f678868",
   "metadata": {},
   "outputs": [
    {
     "data": {
      "text/plain": [
       "['/mnt/d/tom_data/SWOT/L2_LR_windwave/SWOT_L2_LR_SSH_WindWave_484_005_20230407T235536_20230408T004352_PIB0_01.nc',\n",
       " '/mnt/d/tom_data/SWOT/L2_LR_windwave/SWOT_L2_LR_SSH_WindWave_484_006_20230408T004351_20230408T013433_PIB0_01.nc',\n",
       " '/mnt/d/tom_data/SWOT/L2_LR_windwave/SWOT_L2_LR_SSH_WindWave_484_007_20230408T013659_20230408T022521_PIB0_01.nc',\n",
       " '/mnt/d/tom_data/SWOT/L2_LR_windwave/SWOT_L2_LR_SSH_WindWave_484_008_20230408T022702_20230408T031709_PIB0_01.nc']"
      ]
     },
     "execution_count": 9,
     "metadata": {},
     "output_type": "execute_result"
    }
   ],
   "source": [
    "file_path[:4]"
   ]
  },
  {
   "cell_type": "code",
   "execution_count": 10,
   "id": "8cbd41ae-1e62-4f3e-8ec8-49769855b1c1",
   "metadata": {},
   "outputs": [],
   "source": [
    "img_dir = f\"/home/yugao/SWOT_L2/img/{subdir_name}\"\n",
    "processed_dir = f\"/home/yugao/SWOT_L2/data/processed/{subdir_name}\""
   ]
  },
  {
   "cell_type": "markdown",
   "id": "2b9b1d25-7486-4b53-bd8a-a05b85e448dc",
   "metadata": {},
   "source": [
    "## Initial exploration"
   ]
  },
  {
   "cell_type": "code",
   "execution_count": 11,
   "id": "5aaa6678-b259-4d03-95b6-ddaccd68d4fe",
   "metadata": {},
   "outputs": [],
   "source": [
    "def crop_and_plot_wind_data(file_path, lolabox, img_dir, processed_dir):\n",
    "    \"\"\"\n",
    "    Process and plot wind data within a specified bounding box and save the results.\n",
    "\n",
    "    Parameters:\n",
    "    - file_path: Path to the NetCDF file.\n",
    "    - lolabox: Bounding box as a tuple (lon_min, lon_max, lat_min, lat_max).\n",
    "    - img_dir: Directory to save images.\n",
    "    - processed_dir: Directory to save processed NetCDF files.\n",
    "    \"\"\"\n",
    "    # Load dataset\n",
    "    for file in file_path:\n",
    "        ds = xr.open_dataset(file)\n",
    "        \n",
    "        # Adjust longitude coordinates\n",
    "        ds_expert = ds.assign_coords(longitude=(((ds.longitude + 180) % 360) - 180))\n",
    "        \n",
    "        # Subset the dataset based on the bounding box\n",
    "        lolasubset = (\n",
    "            (ds_expert.longitude >= lolabox[0]) &\n",
    "            (ds_expert.longitude <= lolabox[1]) & \n",
    "            (ds_expert.latitude >= lolabox[2]) &\n",
    "            (ds_expert.latitude <= lolabox[3])\n",
    "        )\n",
    "        \n",
    "        if lolasubset.any():\n",
    "            ds_expert_sub = ds_expert.where(lolasubset, drop=True)\n",
    "            \n",
    "            # Check if required variables exist\n",
    "            required_vars = ['wind_speed_karin', 'wind_speed_model_u', 'wind_speed_model_v']\n",
    "            if all(var in ds_expert_sub for var in required_vars):\n",
    "                # Plotting\n",
    "                fig, ax = plt.subplots(figsize=(10, 10), subplot_kw={'projection': ccrs.PlateCarree()})\n",
    "                \n",
    "                # Plot wind speed as background\n",
    "                wind_speed = ds_expert_sub['wind_speed_karin']\n",
    "                wind_speed.plot(ax=ax, transform=ccrs.PlateCarree(), cmap='viridis')\n",
    "    \n",
    "                # Overlay wind vectors\n",
    "                stride = 10  # Adjust this based on your data resolution\n",
    "                q = ax.quiver(\n",
    "                    ds_expert_sub.longitude[::stride],\n",
    "                    ds_expert_sub.latitude[::stride],\n",
    "                    ds_expert_sub['wind_speed_model_u'][::stride],\n",
    "                    ds_expert_sub['wind_speed_model_v'][::stride],\n",
    "                    transform=ccrs.PlateCarree(), scale=500,\n",
    "                    color='white'\n",
    "                )\n",
    "    \n",
    "                ax.coastlines()\n",
    "                ax.set_title('Wind Speed and Direction')\n",
    "    \n",
    "                # Ensure output directories exist\n",
    "                os.makedirs(img_dir, exist_ok=True)\n",
    "                os.makedirs(processed_dir, exist_ok=True)\n",
    "    \n",
    "                # Save plot\n",
    "                time_coverage_begin = ds_expert_sub.attrs.get('time_coverage_begin', 'unknown_time')\n",
    "                safe_time_coverage = time_coverage_begin.replace(':', '').replace('T', '_').replace('Z', '')\n",
    "                img_file_path = os.path.join(img_dir, f\"Wind_{safe_time_coverage}.png\")\n",
    "                plt.savefig(img_file_path, dpi=300, bbox_inches='tight')\n",
    "                plt.close(fig)\n",
    "                \n",
    "                # Save subset as NetCDF\n",
    "                netcdf_file_path = os.path.join(processed_dir, f\"Wind_Data_{safe_time_coverage}.nc\")\n",
    "                ds_expert_sub.to_netcdf(path=netcdf_file_path)\n",
    "                \n",
    "                print(f\"Processed data and plot saved. \\nImage: {img_file_path} \\nNetCDF: {netcdf_file_path}\")\n",
    "                \n",
    "                return ds_expert_sub\n",
    "                \n",
    "            else:\n",
    "                missing_vars = [var for var in required_vars if var not in ds_expert_sub]\n",
    "                print(f\"Missing required variables in dataset: {missing_vars}\")\n",
    "        else:\n",
    "            print(\"No data within the specified bounding box.\")\n",
    "\n",
    "    \n"
   ]
  },
  {
   "cell_type": "code",
   "execution_count": null,
   "id": "cbe07874-ddfe-44e0-811a-0133e35dd3a5",
   "metadata": {},
   "outputs": [],
   "source": []
  },
  {
   "cell_type": "code",
   "execution_count": 12,
   "id": "87418845-537e-45ec-a2ea-a9d0e9b2b76f",
   "metadata": {
    "scrolled": true
   },
   "outputs": [
    {
     "ename": "NameError",
     "evalue": "name 'file' is not defined",
     "output_type": "error",
     "traceback": [
      "\u001b[0;31m---------------------------------------------------------------------------\u001b[0m",
      "\u001b[0;31mNameError\u001b[0m                                 Traceback (most recent call last)",
      "Cell \u001b[0;32mIn[12], line 1\u001b[0m\n\u001b[0;32m----> 1\u001b[0m ds_sub \u001b[38;5;241m=\u001b[39m crop_and_plot_wind_data(\u001b[43mfile\u001b[49m, lolabox, img_dir, processed_dir)\n",
      "\u001b[0;31mNameError\u001b[0m: name 'file' is not defined"
     ]
    }
   ],
   "source": [
    "ds_sub = crop_and_plot_wind_data(file, lolabox, img_dir, processed_dir)"
   ]
  },
  {
   "cell_type": "code",
   "execution_count": null,
   "id": "008207f2-05e8-43db-b1ae-7ffcca6e1522",
   "metadata": {},
   "outputs": [],
   "source": [
    "file"
   ]
  },
  {
   "cell_type": "code",
   "execution_count": null,
   "id": "7b3de77b-c265-4637-ad75-728bc98e3650",
   "metadata": {
    "scrolled": true
   },
   "outputs": [],
   "source": [
    "ds = ds_21day\n",
    "\n",
    "# Extract variables\n",
    "wind_speed = ds['wind_speed_karin']\n",
    "u_component = ds['wind_speed_model_u']\n",
    "v_component = ds['wind_speed_model_v']\n",
    "latitude = ds['latitude']\n",
    "longitude = ds['longitude']\n",
    "\n",
    "# Since plotting every vector can make the plot too dense,\n",
    "# we'll subsample the data. Adjust the stride as necessary to suit your dataset's resolution and size.\n",
    "stride = 10  # This means plot every 10th data point\n",
    "\n",
    "# Create a PlateCarree projection plot\n",
    "fig, ax = plt.subplots(figsize=(10, 10), subplot_kw={'projection': ccrs.PlateCarree()})\n",
    "\n",
    "# Plot wind speed as background\n",
    "wind_speed.plot(ax=ax, transform=ccrs.PlateCarree(), cmap='viridis')\n",
    "\n",
    "# Overlay wind vectors\n",
    "# Ensure longitude, latitude, and the components are correctly aligned; np.meshgrid might be needed depending on your data structure\n",
    "q = ax.quiver(longitude[::stride], latitude[::stride], u_component[::stride], v_component[::stride], \n",
    "              transform=ccrs.PlateCarree(), scale=500, headwidth=3, headlength=5, headaxislength=4.5)\n",
    "\n",
    "# Adding coastlines for geographic context\n",
    "ax.coastlines()\n",
    "\n",
    "plt.title('Wind Speed and Direction')\n",
    "plt.show()\n"
   ]
  },
  {
   "cell_type": "code",
   "execution_count": null,
   "id": "8ecea09d-7431-40e8-bd68-68b288019b91",
   "metadata": {},
   "outputs": [],
   "source": []
  }
 ],
 "metadata": {
  "kernelspec": {
   "display_name": "Python 3 (ipykernel)",
   "language": "python",
   "name": "python3"
  },
  "language_info": {
   "codemirror_mode": {
    "name": "ipython",
    "version": 3
   },
   "file_extension": ".py",
   "mimetype": "text/x-python",
   "name": "python",
   "nbconvert_exporter": "python",
   "pygments_lexer": "ipython3",
   "version": "3.12.2"
  }
 },
 "nbformat": 4,
 "nbformat_minor": 5
}
